{
  "nbformat": 4,
  "nbformat_minor": 0,
  "metadata": {
    "colab": {
      "name": "assignement.ipynb",
      "provenance": [],
      "authorship_tag": "ABX9TyPCaSHhHtkPYBWD/uBGxEkf",
      "include_colab_link": true
    },
    "kernelspec": {
      "name": "python3",
      "display_name": "Python 3"
    },
    "language_info": {
      "name": "python"
    }
  },
  "cells": [
    {
      "cell_type": "markdown",
      "metadata": {
        "id": "view-in-github",
        "colab_type": "text"
      },
      "source": [
        "<a href=\"https://colab.research.google.com/github/princeaggarwal99/sanjayaggarwalsk-gmail.com/blob/master/assignement.ipynb\" target=\"_parent\"><img src=\"https://colab.research.google.com/assets/colab-badge.svg\" alt=\"Open In Colab\"/></a>"
      ]
    },
    {
      "cell_type": "code",
      "metadata": {
        "id": "8V6h7kUEr0hb"
      },
      "source": [
        "\n",
        "import numpy as np\n",
        "import pandas as pd\n",
        "import matplotlib.pyplot as plt\n",
        "import seaborn as sns\n",
        "import missingno\n",
        "%matplotlib inline"
      ],
      "execution_count": 1,
      "outputs": []
    },
    {
      "cell_type": "code",
      "metadata": {
        "id": "1ig0Sw2kr5-Z"
      },
      "source": [
        "data=pd.read_csv('salary.csv', encoding = \"ISO-8859-1\")"
      ],
      "execution_count": 5,
      "outputs": []
    },
    {
      "cell_type": "code",
      "metadata": {
        "colab": {
          "base_uri": "https://localhost:8080/",
          "height": 626
        },
        "id": "JJ2HmYVIr6A0",
        "outputId": "2c378876-c096-4d09-e445-6d4e8fd0a430"
      },
      "source": [
        "pd.set_option('max_columns', None)\n",
        "data.head()"
      ],
      "execution_count": 8,
      "outputs": [
        {
          "output_type": "execute_result",
          "data": {
            "text/html": [
              "<div>\n",
              "<style scoped>\n",
              "    .dataframe tbody tr th:only-of-type {\n",
              "        vertical-align: middle;\n",
              "    }\n",
              "\n",
              "    .dataframe tbody tr th {\n",
              "        vertical-align: top;\n",
              "    }\n",
              "\n",
              "    .dataframe thead th {\n",
              "        text-align: right;\n",
              "    }\n",
              "</style>\n",
              "<table border=\"1\" class=\"dataframe\">\n",
              "  <thead>\n",
              "    <tr style=\"text-align: right;\">\n",
              "      <th></th>\n",
              "      <th>id</th>\n",
              "      <th>Target_Salary</th>\n",
              "      <th>Target_Satisfied</th>\n",
              "      <th>LOAN_AMT</th>\n",
              "      <th>Business Title</th>\n",
              "      <th>Civil Service Title</th>\n",
              "      <th>Division/Work Unit</th>\n",
              "      <th>Job Description</th>\n",
              "      <th>Minimum Qual Requirements</th>\n",
              "      <th>Preferred Skills</th>\n",
              "      <th>Additional Information</th>\n",
              "      <th>To Apply</th>\n",
              "      <th>Hours/Shift</th>\n",
              "      <th>Residency Requirement</th>\n",
              "      <th>Posting Date</th>\n",
              "      <th>Posting Updated</th>\n",
              "      <th>Process Date</th>\n",
              "      <th>FormalEducation</th>\n",
              "      <th>UndergradMajor</th>\n",
              "      <th>CompanySize</th>\n",
              "      <th>DevType</th>\n",
              "      <th>YearsCoding</th>\n",
              "      <th>YearsCodingProf</th>\n",
              "      <th>HopeFiveYears</th>\n",
              "      <th>JobSearchStatus</th>\n",
              "      <th>LastNewJob</th>\n",
              "      <th>UpdateCV</th>\n",
              "      <th>CommunicationTools</th>\n",
              "      <th>TimeFullyProductive</th>\n",
              "      <th>EducationTypes</th>\n",
              "      <th>SelfTaughtTypes</th>\n",
              "      <th>TimeAfterBootcamp</th>\n",
              "      <th>HackathonReasons</th>\n",
              "      <th>AgreeDisagree1</th>\n",
              "      <th>AgreeDisagree2</th>\n",
              "      <th>AgreeDisagree3</th>\n",
              "      <th>LanguageWorkedWith</th>\n",
              "      <th>LanguageDesireNextYear</th>\n",
              "      <th>DatabaseWorkedWith</th>\n",
              "      <th>DatabaseDesireNextYear</th>\n",
              "      <th>PlatformWorkedWith</th>\n",
              "      <th>PlatformDesireNextYear</th>\n",
              "      <th>FrameworkWorkedWith</th>\n",
              "      <th>FrameworkDesireNextYear</th>\n",
              "      <th>IDE</th>\n",
              "      <th>OperatingSystem</th>\n",
              "      <th>Methodology</th>\n",
              "      <th>VersionControl</th>\n",
              "      <th>CheckInCode</th>\n",
              "      <th>AIDangerous</th>\n",
              "      <th>AIInteresting</th>\n",
              "      <th>AIResponsible</th>\n",
              "      <th>AIFuture</th>\n",
              "      <th>Age</th>\n",
              "      <th>term</th>\n",
              "      <th>loan_status</th>\n",
              "      <th>pymnt_plan</th>\n",
              "      <th>orignal_website_directory</th>\n",
              "      <th>purpose</th>\n",
              "      <th>title</th>\n",
              "      <th>zip_code</th>\n",
              "      <th>addr_state</th>\n",
              "      <th>dti</th>\n",
              "      <th>earliest_cr_line</th>\n",
              "      <th>last_pymnt_d</th>\n",
              "      <th>last_pymnt_amnt</th>\n",
              "      <th>next_pymnt_d</th>\n",
              "      <th>last_credit_pull_d</th>\n",
              "      <th>Time</th>\n",
              "      <th>emp_length</th>\n",
              "      <th>your_favoritearticle_today</th>\n",
              "      <th>url</th>\n",
              "      <th>Email</th>\n",
              "      <th>homeaddress</th>\n",
              "      <th>latitude</th>\n",
              "      <th>longitude</th>\n",
              "      <th>PHONE</th>\n",
              "      <th>officeaddress</th>\n",
              "      <th>website</th>\n",
              "      <th>dateAdded</th>\n",
              "      <th>previousaddress</th>\n",
              "      <th>phones</th>\n",
              "      <th>CrimeTime</th>\n",
              "    </tr>\n",
              "  </thead>\n",
              "  <tbody>\n",
              "    <tr>\n",
              "      <th>0</th>\n",
              "      <td>68407277</td>\n",
              "      <td>42405.00</td>\n",
              "      <td>0</td>\n",
              "      <td>$3,600.00</td>\n",
              "      <td>Account Manager</td>\n",
              "      <td>CONTRACT REVIEWER (OFFICE OF L</td>\n",
              "      <td>Strategy &amp; Analytics</td>\n",
              "      <td>Division of Economic &amp; Financial Opportunity (...</td>\n",
              "      <td>1.\\tA baccalaureate degree from an accredited ...</td>\n",
              "      <td>â¢\\tExcellent interpersonal and organizationa...</td>\n",
              "      <td>Salary range for this position is: $42,405 - $...</td>\n",
              "      <td>NaN</td>\n",
              "      <td>NaN</td>\n",
              "      <td>New York City residency is generally required ...</td>\n",
              "      <td>2011-06-24T00:00:00.000</td>\n",
              "      <td>2011-06-24T00:00:00.000</td>\n",
              "      <td>2019-12-17T00:00:00.000</td>\n",
              "      <td>Bachelors degree (BA, BS, B.Eng., etc.)</td>\n",
              "      <td>Mathematics or statistics</td>\n",
              "      <td>20 to 99 employees</td>\n",
              "      <td>Full-stack developer</td>\n",
              "      <td>3-5 years</td>\n",
              "      <td>3-5 years</td>\n",
              "      <td>Working as a founder or co-founder of my own c...</td>\n",
              "      <td>Im not actively looking, but I am open to new...</td>\n",
              "      <td>Less than a year ago</td>\n",
              "      <td>My job status or other personal status changed</td>\n",
              "      <td>Slack</td>\n",
              "      <td>One to three months</td>\n",
              "      <td>Taught yourself a new language, framework, or ...</td>\n",
              "      <td>The official documentation and/or standards fo...</td>\n",
              "      <td>NaN</td>\n",
              "      <td>To build my professional network</td>\n",
              "      <td>Strongly agree</td>\n",
              "      <td>Strongly agree</td>\n",
              "      <td>Neither Agree nor Disagree</td>\n",
              "      <td>JavaScript;Python;HTML;CSS</td>\n",
              "      <td>JavaScript;Python;HTML;CSS</td>\n",
              "      <td>Redis;SQL Server;MySQL;PostgreSQL;Amazon RDS/A...</td>\n",
              "      <td>Redis;SQL Server;MySQL;PostgreSQL;Amazon RDS/A...</td>\n",
              "      <td>AWS;Azure;Linux;Firebase</td>\n",
              "      <td>AWS;Azure;Linux;Firebase</td>\n",
              "      <td>Django;React</td>\n",
              "      <td>Django;React</td>\n",
              "      <td>Komodo;Vim;Visual Studio Code</td>\n",
              "      <td>Linux-based</td>\n",
              "      <td>Agile;Scrum</td>\n",
              "      <td>Git</td>\n",
              "      <td>Multiple times per day</td>\n",
              "      <td>Artificial intelligence surpassing human intel...</td>\n",
              "      <td>Algorithms making important decisions</td>\n",
              "      <td>The developers or the people creating the AI</td>\n",
              "      <td>I'm excited about the possibilities more than ...</td>\n",
              "      <td>25 - 34 years old</td>\n",
              "      <td>36 months</td>\n",
              "      <td>Fully Paid</td>\n",
              "      <td>n</td>\n",
              "      <td>https://lendingclub.com/browse/loanDetail.acti...</td>\n",
              "      <td>debt_consolidation</td>\n",
              "      <td>Debt consolidation</td>\n",
              "      <td>190xx</td>\n",
              "      <td>PA</td>\n",
              "      <td>5.91</td>\n",
              "      <td>3-Aug</td>\n",
              "      <td>19-Jan</td>\n",
              "      <td>122.67</td>\n",
              "      <td>NaN</td>\n",
              "      <td>19-Mar</td>\n",
              "      <td>3/22/2016 9:51</td>\n",
              "      <td>&lt; 1 year</td>\n",
              "      <td>https://www.reuters.com/article/us-tesla-crash...</td>\n",
              "      <td>nobell.it/70ffb52d079109dca5664cce6f317373782/...</td>\n",
              "      <td>mstephenson@fernandez.com</td>\n",
              "      <td>346 W Magnolia Ave Auburn, AL 36832 US</td>\n",
              "      <td>32.606813</td>\n",
              "      <td>-85.487328</td>\n",
              "      <td>(91) 555 22 82</td>\n",
              "      <td>PO Box 4653, Stockton, California, 95204</td>\n",
              "      <td>http://www.valleybrew.com/</td>\n",
              "      <td>2016-04-22T02:47:48Z</td>\n",
              "      <td>1045 San Pablo Ave</td>\n",
              "      <td>(510) 528-2375</td>\n",
              "      <td>23:30:00</td>\n",
              "    </tr>\n",
              "    <tr>\n",
              "      <th>1</th>\n",
              "      <td>68355089</td>\n",
              "      <td>60740.00</td>\n",
              "      <td>1</td>\n",
              "      <td>$24,700.00</td>\n",
              "      <td>EXECUTIVE DIRECTOR, BUSINESS DEVELOPMENT</td>\n",
              "      <td>ADMINISTRATIVE BUSINESS PROMOT</td>\n",
              "      <td>Tech Talent Pipeline</td>\n",
              "      <td>The New York City Department of Small Business...</td>\n",
              "      <td>1. A baccalaureate degree from an accredited c...</td>\n",
              "      <td>NaN</td>\n",
              "      <td>NaN</td>\n",
              "      <td>In addition to applying through this website, ...</td>\n",
              "      <td>NaN</td>\n",
              "      <td>New York City residency is generally required ...</td>\n",
              "      <td>2012-01-26T00:00:00.000</td>\n",
              "      <td>2012-01-26T00:00:00.000</td>\n",
              "      <td>2019-12-17T00:00:00.000</td>\n",
              "      <td>Bachelors degree (BA, BS, B.Eng., etc.)</td>\n",
              "      <td>A natural science (ex. biology, chemistry, phy...</td>\n",
              "      <td>10,000 or more employees</td>\n",
              "      <td>Database administrator;DevOps specialist;Full-...</td>\n",
              "      <td>30 or more years</td>\n",
              "      <td>18-20 years</td>\n",
              "      <td>Working in a different or more specialized tec...</td>\n",
              "      <td>I am actively looking for a job</td>\n",
              "      <td>More than 4 years ago</td>\n",
              "      <td>I saw an employers advertisement</td>\n",
              "      <td>Confluence;Office / productivity suite (Micros...</td>\n",
              "      <td>One to three months</td>\n",
              "      <td>Taught yourself a new language, framework, or ...</td>\n",
              "      <td>The official documentation and/or standards fo...</td>\n",
              "      <td>NaN</td>\n",
              "      <td>NaN</td>\n",
              "      <td>Agree</td>\n",
              "      <td>Agree</td>\n",
              "      <td>Neither Agree nor Disagree</td>\n",
              "      <td>JavaScript;Python;Bash/Shell</td>\n",
              "      <td>Go;Python</td>\n",
              "      <td>Redis;PostgreSQL;Memcached</td>\n",
              "      <td>PostgreSQL</td>\n",
              "      <td>Linux</td>\n",
              "      <td>Linux</td>\n",
              "      <td>Django</td>\n",
              "      <td>React</td>\n",
              "      <td>IPython / Jupyter;Sublime Text;Vim</td>\n",
              "      <td>Linux-based</td>\n",
              "      <td>NaN</td>\n",
              "      <td>Git;Subversion</td>\n",
              "      <td>A few times per week</td>\n",
              "      <td>Increasing automation of jobs</td>\n",
              "      <td>Increasing automation of jobs</td>\n",
              "      <td>The developers or the people creating the AI</td>\n",
              "      <td>I'm excited about the possibilities more than ...</td>\n",
              "      <td>35 - 44 years old</td>\n",
              "      <td>36 months</td>\n",
              "      <td>Fully Paid</td>\n",
              "      <td>n</td>\n",
              "      <td>https://lendingclub.com/browse/loanDetail.acti...</td>\n",
              "      <td>small_business</td>\n",
              "      <td>Business</td>\n",
              "      <td>577xx</td>\n",
              "      <td>SD</td>\n",
              "      <td>16.06</td>\n",
              "      <td>Dec-99</td>\n",
              "      <td>16-Jun</td>\n",
              "      <td>926.35</td>\n",
              "      <td>NaN</td>\n",
              "      <td>19-Mar</td>\n",
              "      <td>3/22/2016 10:08</td>\n",
              "      <td>NaN</td>\n",
              "      <td>https://www.irishtimes.com/business/economy/un...</td>\n",
              "      <td>www.dghjdgf.com/paypal.co.uk/cycgi-bin/webscrc...</td>\n",
              "      <td>hduke@hotmail.com</td>\n",
              "      <td>300 20th St S Birmingham, AL 35233 US</td>\n",
              "      <td>33.509722</td>\n",
              "      <td>-86.802756</td>\n",
              "      <td>NaN</td>\n",
              "      <td>157 Adams St., Stockton, California, 95204</td>\n",
              "      <td>http://www.valleybrew.com/</td>\n",
              "      <td>2016-04-22T02:47:48Z</td>\n",
              "      <td>1045 San Pablo Ave</td>\n",
              "      <td>(510) 528-2375</td>\n",
              "      <td>23:00:00</td>\n",
              "    </tr>\n",
              "    <tr>\n",
              "      <th>2</th>\n",
              "      <td>68341763</td>\n",
              "      <td>51907.68</td>\n",
              "      <td>0</td>\n",
              "      <td>$20,000.00</td>\n",
              "      <td>Maintenance Worker - Technical Services-Heatin...</td>\n",
              "      <td>MAINTENANCE WORKER</td>\n",
              "      <td>Management Services Department</td>\n",
              "      <td>Under direct supervision, assist in the routin...</td>\n",
              "      <td>1. Three years of full-time satisfactory exper...</td>\n",
              "      <td>1.  A High School Diploma or GED.  2.  CDL Dri...</td>\n",
              "      <td>1.  A Motor Vehicle Driverâs License valid i...</td>\n",
              "      <td>Click the \"Apply Now\" button.</td>\n",
              "      <td>NaN</td>\n",
              "      <td>NYCHA has no residency requirements.</td>\n",
              "      <td>2013-10-24T00:00:00.000</td>\n",
              "      <td>2013-12-12T00:00:00.000</td>\n",
              "      <td>2019-12-17T00:00:00.000</td>\n",
              "      <td>Associate degree</td>\n",
              "      <td>Computer science, computer engineering, or sof...</td>\n",
              "      <td>20 to 99 employees</td>\n",
              "      <td>Engineering manager;Full-stack developer</td>\n",
              "      <td>24-26 years</td>\n",
              "      <td>6-8 years</td>\n",
              "      <td>Working as a founder or co-founder of my own c...</td>\n",
              "      <td>Im not actively looking, but I am open to new...</td>\n",
              "      <td>Less than a year ago</td>\n",
              "      <td>NaN</td>\n",
              "      <td>NaN</td>\n",
              "      <td>NaN</td>\n",
              "      <td>NaN</td>\n",
              "      <td>NaN</td>\n",
              "      <td>NaN</td>\n",
              "      <td>NaN</td>\n",
              "      <td>NaN</td>\n",
              "      <td>NaN</td>\n",
              "      <td>NaN</td>\n",
              "      <td>NaN</td>\n",
              "      <td>NaN</td>\n",
              "      <td>NaN</td>\n",
              "      <td>NaN</td>\n",
              "      <td>NaN</td>\n",
              "      <td>NaN</td>\n",
              "      <td>NaN</td>\n",
              "      <td>NaN</td>\n",
              "      <td>NaN</td>\n",
              "      <td>NaN</td>\n",
              "      <td>NaN</td>\n",
              "      <td>NaN</td>\n",
              "      <td>NaN</td>\n",
              "      <td>NaN</td>\n",
              "      <td>NaN</td>\n",
              "      <td>NaN</td>\n",
              "      <td>NaN</td>\n",
              "      <td>NaN</td>\n",
              "      <td>60 months</td>\n",
              "      <td>Fully Paid</td>\n",
              "      <td>n</td>\n",
              "      <td>https://lendingclub.com/browse/loanDetail.acti...</td>\n",
              "      <td>home_improvement</td>\n",
              "      <td>NaN</td>\n",
              "      <td>605xx</td>\n",
              "      <td>IL</td>\n",
              "      <td>10.78</td>\n",
              "      <td>Aug-00</td>\n",
              "      <td>17-Jun</td>\n",
              "      <td>15813.30</td>\n",
              "      <td>NaN</td>\n",
              "      <td>19-Mar</td>\n",
              "      <td>3/22/2016 10:08</td>\n",
              "      <td>NaN</td>\n",
              "      <td>https://www.irishtimes.com/\\t\\t\\t\\t\\t\\t\\t/life...</td>\n",
              "      <td>serviciosbys.com/paypal.cgi.bin.get-into.herf....</td>\n",
              "      <td>pallen@yahoo.com</td>\n",
              "      <td>3220 Morrow Rd Birmingham, AL 35235 US</td>\n",
              "      <td>33.595581</td>\n",
              "      <td>-86.647437</td>\n",
              "      <td>NaN</td>\n",
              "      <td>1950 W Freemont, Stockton, California, 95203</td>\n",
              "      <td>http://www.valleybrew.com/</td>\n",
              "      <td>2016-04-22T02:47:48Z</td>\n",
              "      <td>1045 San Pablo Ave</td>\n",
              "      <td>(510) 528-2375</td>\n",
              "      <td>22:53:00</td>\n",
              "    </tr>\n",
              "    <tr>\n",
              "      <th>3</th>\n",
              "      <td>66310712</td>\n",
              "      <td>51907.68</td>\n",
              "      <td>0</td>\n",
              "      <td>$35,000.00</td>\n",
              "      <td>Maintenance Worker - Technical Services-Heatin...</td>\n",
              "      <td>MAINTENANCE WORKER</td>\n",
              "      <td>Management Services Department</td>\n",
              "      <td>Under direct supervision, assist in the routin...</td>\n",
              "      <td>1. Three years of full-time satisfactory exper...</td>\n",
              "      <td>1.  A High School Diploma or GED.  2.  CDL Dri...</td>\n",
              "      <td>1.  A Motor Vehicle Driverâs License valid i...</td>\n",
              "      <td>Click the \"Apply Now\" button.</td>\n",
              "      <td>NaN</td>\n",
              "      <td>NYCHA has no residency requirements.</td>\n",
              "      <td>2013-10-24T00:00:00.000</td>\n",
              "      <td>2013-12-12T00:00:00.000</td>\n",
              "      <td>2019-12-17T00:00:00.000</td>\n",
              "      <td>Bachelors degree (BA, BS, B.Eng., etc.)</td>\n",
              "      <td>Computer science, computer engineering, or sof...</td>\n",
              "      <td>100 to 499 employees</td>\n",
              "      <td>Full-stack developer</td>\n",
              "      <td>18-20 years</td>\n",
              "      <td>12-14 years</td>\n",
              "      <td>Working as a founder or co-founder of my own c...</td>\n",
              "      <td>Im not actively looking, but I am open to new...</td>\n",
              "      <td>Less than a year ago</td>\n",
              "      <td>A recruiter contacted me</td>\n",
              "      <td>NaN</td>\n",
              "      <td>Three to six months</td>\n",
              "      <td>Completed an industry certification program (e...</td>\n",
              "      <td>The official documentation and/or standards fo...</td>\n",
              "      <td>NaN</td>\n",
              "      <td>NaN</td>\n",
              "      <td>Disagree</td>\n",
              "      <td>Disagree</td>\n",
              "      <td>Strongly disagree</td>\n",
              "      <td>C#;JavaScript;SQL;TypeScript;HTML;CSS;Bash/Shell</td>\n",
              "      <td>C#;JavaScript;SQL;TypeScript;HTML;CSS;Bash/Shell</td>\n",
              "      <td>SQL Server;Microsoft Azure (Tables, CosmosDB, ...</td>\n",
              "      <td>SQL Server;Microsoft Azure (Tables, CosmosDB, ...</td>\n",
              "      <td>Azure</td>\n",
              "      <td>Azure</td>\n",
              "      <td>NaN</td>\n",
              "      <td>Angular;.NET Core;React</td>\n",
              "      <td>Visual Studio;Visual Studio Code</td>\n",
              "      <td>Windows</td>\n",
              "      <td>Agile;Kanban;Scrum</td>\n",
              "      <td>Git</td>\n",
              "      <td>Multiple times per day</td>\n",
              "      <td>Artificial intelligence surpassing human intel...</td>\n",
              "      <td>Artificial intelligence surpassing human intel...</td>\n",
              "      <td>A governmental or other regulatory body</td>\n",
              "      <td>I don't care about it, or I haven't thought ab...</td>\n",
              "      <td>35 - 44 years old</td>\n",
              "      <td>60 months</td>\n",
              "      <td>Current</td>\n",
              "      <td>n</td>\n",
              "      <td>https://lendingclub.com/browse/loanDetail.acti...</td>\n",
              "      <td>debt_consolidation</td>\n",
              "      <td>Debt consolidation</td>\n",
              "      <td>076xx</td>\n",
              "      <td>NJ</td>\n",
              "      <td>17.06</td>\n",
              "      <td>8-Sep</td>\n",
              "      <td>19-Feb</td>\n",
              "      <td>829.90</td>\n",
              "      <td>19-Apr</td>\n",
              "      <td>19-Mar</td>\n",
              "      <td>3/22/2016 10:08</td>\n",
              "      <td>10+ years</td>\n",
              "      <td>https://www.aljazeera.com/news/2019/09/north-k...</td>\n",
              "      <td>mail.printakid.com/www.online.americanexpress....</td>\n",
              "      <td>riverarebecca@gmail.com</td>\n",
              "      <td>4719 Highway 280 Birmingham, AL 35242 US</td>\n",
              "      <td>33.422582</td>\n",
              "      <td>-86.698279</td>\n",
              "      <td>2125557818</td>\n",
              "      <td>102 S. State St., Ukiah, California, 95482</td>\n",
              "      <td>http://www.ukiahbrewingco.com/</td>\n",
              "      <td>2016-04-22T02:47:48Z</td>\n",
              "      <td>1045 San Pablo Ave</td>\n",
              "      <td>(510) 528-2375</td>\n",
              "      <td>22:50:00</td>\n",
              "    </tr>\n",
              "    <tr>\n",
              "      <th>4</th>\n",
              "      <td>68476807</td>\n",
              "      <td>35.00</td>\n",
              "      <td>1</td>\n",
              "      <td>$10,400.00</td>\n",
              "      <td>Temporary Painter</td>\n",
              "      <td>PAINTER</td>\n",
              "      <td>Dept of Management &amp; Planning</td>\n",
              "      <td>Responsibilities of selected candidates will i...</td>\n",
              "      <td>1. Five years of full-time satisfactory experi...</td>\n",
              "      <td>NaN</td>\n",
              "      <td>SPECIAL NOTE:    1.  This is a temporary assig...</td>\n",
              "      <td>Click the \"Apply Now\" button.</td>\n",
              "      <td>NaN</td>\n",
              "      <td>NYCHA has no residency requirement.</td>\n",
              "      <td>2014-01-09T00:00:00.000</td>\n",
              "      <td>2014-01-08T00:00:00.000</td>\n",
              "      <td>2019-12-17T00:00:00.000</td>\n",
              "      <td>Some college/university study without earning ...</td>\n",
              "      <td>Computer science, computer engineering, or sof...</td>\n",
              "      <td>10,000 or more employees</td>\n",
              "      <td>Data or business analyst;Desktop or enterprise...</td>\n",
              "      <td>6-8 years</td>\n",
              "      <td>0-2 years</td>\n",
              "      <td>Working in a different or more specialized tec...</td>\n",
              "      <td>Im not actively looking, but I am open to new...</td>\n",
              "      <td>Between 1 and 2 years ago</td>\n",
              "      <td>My job status or other personal status changed</td>\n",
              "      <td>Office / productivity suite (Microsoft Office,...</td>\n",
              "      <td>Three to six months</td>\n",
              "      <td>Taken a part-time in-person course in programm...</td>\n",
              "      <td>The official documentation and/or standards fo...</td>\n",
              "      <td>NaN</td>\n",
              "      <td>NaN</td>\n",
              "      <td>Strongly agree</td>\n",
              "      <td>Agree</td>\n",
              "      <td>Strongly disagree</td>\n",
              "      <td>C;C++;Java;Matlab;R;SQL;Bash/Shell</td>\n",
              "      <td>Assembly;C;C++;Matlab;SQL;Bash/Shell</td>\n",
              "      <td>SQL Server;PostgreSQL;Oracle;IBM Db2</td>\n",
              "      <td>PostgreSQL;Oracle;IBM Db2</td>\n",
              "      <td>Arduino;Windows Desktop or Server</td>\n",
              "      <td>Arduino;Windows Desktop or Server</td>\n",
              "      <td>NaN</td>\n",
              "      <td>NaN</td>\n",
              "      <td>Notepad++;Visual Studio;Visual Studio Code</td>\n",
              "      <td>Windows</td>\n",
              "      <td>Evidence-based software engineering;Formal sta...</td>\n",
              "      <td>Zip file back-ups</td>\n",
              "      <td>Weekly or a few times per month</td>\n",
              "      <td>Algorithms making important decisions</td>\n",
              "      <td>Algorithms making important decisions</td>\n",
              "      <td>The developers or the people creating the AI</td>\n",
              "      <td>I'm excited about the possibilities more than ...</td>\n",
              "      <td>18 - 24 years old</td>\n",
              "      <td>60 months</td>\n",
              "      <td>Fully Paid</td>\n",
              "      <td>n</td>\n",
              "      <td>https://lendingclub.com/browse/loanDetail.acti...</td>\n",
              "      <td>major_purchase</td>\n",
              "      <td>Major purchase</td>\n",
              "      <td>174xx</td>\n",
              "      <td>PA</td>\n",
              "      <td>25.37</td>\n",
              "      <td>Jun-98</td>\n",
              "      <td>16-Jul</td>\n",
              "      <td>10128.96</td>\n",
              "      <td>NaN</td>\n",
              "      <td>18-Mar</td>\n",
              "      <td>3/22/2016 10:08</td>\n",
              "      <td>10+ years</td>\n",
              "      <td>https://www.bbc.co.uk/news/av/uk-scotland-4956...</td>\n",
              "      <td>thewhiskeydregs.com/wp-content/themes/widescre...</td>\n",
              "      <td>mstephens@davidson-herman.com</td>\n",
              "      <td>1821 Cherokee Ave SW Cullman, AL 35055 US</td>\n",
              "      <td>34.154134</td>\n",
              "      <td>-86.841220</td>\n",
              "      <td>26.47.1555</td>\n",
              "      <td>13011 Newport Ave. #100, Tustin, California, 9...</td>\n",
              "      <td>http://www.tustinbrewery.com/</td>\n",
              "      <td>2016-04-22T02:47:48Z</td>\n",
              "      <td>1045 San Pablo Ave</td>\n",
              "      <td>(510) 528-2375</td>\n",
              "      <td>22:31:00</td>\n",
              "    </tr>\n",
              "  </tbody>\n",
              "</table>\n",
              "</div>"
            ],
            "text/plain": [
              "         id  Target_Salary  Target_Satisfied     LOAN_AMT  \\\n",
              "0  68407277       42405.00                 0   $3,600.00    \n",
              "1  68355089       60740.00                 1  $24,700.00    \n",
              "2  68341763       51907.68                 0  $20,000.00    \n",
              "3  66310712       51907.68                 0  $35,000.00    \n",
              "4  68476807          35.00                 1  $10,400.00    \n",
              "\n",
              "                                      Business Title  \\\n",
              "0                                    Account Manager   \n",
              "1           EXECUTIVE DIRECTOR, BUSINESS DEVELOPMENT   \n",
              "2  Maintenance Worker - Technical Services-Heatin...   \n",
              "3  Maintenance Worker - Technical Services-Heatin...   \n",
              "4                                  Temporary Painter   \n",
              "\n",
              "              Civil Service Title              Division/Work Unit  \\\n",
              "0  CONTRACT REVIEWER (OFFICE OF L            Strategy & Analytics   \n",
              "1  ADMINISTRATIVE BUSINESS PROMOT            Tech Talent Pipeline   \n",
              "2              MAINTENANCE WORKER  Management Services Department   \n",
              "3              MAINTENANCE WORKER  Management Services Department   \n",
              "4                         PAINTER   Dept of Management & Planning   \n",
              "\n",
              "                                     Job Description  \\\n",
              "0  Division of Economic & Financial Opportunity (...   \n",
              "1  The New York City Department of Small Business...   \n",
              "2  Under direct supervision, assist in the routin...   \n",
              "3  Under direct supervision, assist in the routin...   \n",
              "4  Responsibilities of selected candidates will i...   \n",
              "\n",
              "                           Minimum Qual Requirements  \\\n",
              "0  1.\\tA baccalaureate degree from an accredited ...   \n",
              "1  1. A baccalaureate degree from an accredited c...   \n",
              "2  1. Three years of full-time satisfactory exper...   \n",
              "3  1. Three years of full-time satisfactory exper...   \n",
              "4  1. Five years of full-time satisfactory experi...   \n",
              "\n",
              "                                    Preferred Skills  \\\n",
              "0  â¢\\tExcellent interpersonal and organizationa...   \n",
              "1                                                NaN   \n",
              "2  1.  A High School Diploma or GED.  2.  CDL Dri...   \n",
              "3  1.  A High School Diploma or GED.  2.  CDL Dri...   \n",
              "4                                                NaN   \n",
              "\n",
              "                              Additional Information  \\\n",
              "0  Salary range for this position is: $42,405 - $...   \n",
              "1                                                NaN   \n",
              "2  1.  A Motor Vehicle Driverâs License valid i...   \n",
              "3  1.  A Motor Vehicle Driverâs License valid i...   \n",
              "4  SPECIAL NOTE:    1.  This is a temporary assig...   \n",
              "\n",
              "                                            To Apply Hours/Shift  \\\n",
              "0                                                NaN         NaN   \n",
              "1  In addition to applying through this website, ...         NaN   \n",
              "2                      Click the \"Apply Now\" button.         NaN   \n",
              "3                      Click the \"Apply Now\" button.         NaN   \n",
              "4                      Click the \"Apply Now\" button.         NaN   \n",
              "\n",
              "                               Residency Requirement             Posting Date  \\\n",
              "0  New York City residency is generally required ...  2011-06-24T00:00:00.000   \n",
              "1  New York City residency is generally required ...  2012-01-26T00:00:00.000   \n",
              "2               NYCHA has no residency requirements.  2013-10-24T00:00:00.000   \n",
              "3               NYCHA has no residency requirements.  2013-10-24T00:00:00.000   \n",
              "4                NYCHA has no residency requirement.  2014-01-09T00:00:00.000   \n",
              "\n",
              "           Posting Updated             Process Date  \\\n",
              "0  2011-06-24T00:00:00.000  2019-12-17T00:00:00.000   \n",
              "1  2012-01-26T00:00:00.000  2019-12-17T00:00:00.000   \n",
              "2  2013-12-12T00:00:00.000  2019-12-17T00:00:00.000   \n",
              "3  2013-12-12T00:00:00.000  2019-12-17T00:00:00.000   \n",
              "4  2014-01-08T00:00:00.000  2019-12-17T00:00:00.000   \n",
              "\n",
              "                                     FormalEducation  \\\n",
              "0           Bachelors degree (BA, BS, B.Eng., etc.)   \n",
              "1           Bachelors degree (BA, BS, B.Eng., etc.)   \n",
              "2                                   Associate degree   \n",
              "3           Bachelors degree (BA, BS, B.Eng., etc.)   \n",
              "4  Some college/university study without earning ...   \n",
              "\n",
              "                                      UndergradMajor  \\\n",
              "0                          Mathematics or statistics   \n",
              "1  A natural science (ex. biology, chemistry, phy...   \n",
              "2  Computer science, computer engineering, or sof...   \n",
              "3  Computer science, computer engineering, or sof...   \n",
              "4  Computer science, computer engineering, or sof...   \n",
              "\n",
              "                CompanySize  \\\n",
              "0        20 to 99 employees   \n",
              "1  10,000 or more employees   \n",
              "2        20 to 99 employees   \n",
              "3      100 to 499 employees   \n",
              "4  10,000 or more employees   \n",
              "\n",
              "                                             DevType       YearsCoding  \\\n",
              "0                               Full-stack developer         3-5 years   \n",
              "1  Database administrator;DevOps specialist;Full-...  30 or more years   \n",
              "2           Engineering manager;Full-stack developer       24-26 years   \n",
              "3                               Full-stack developer       18-20 years   \n",
              "4  Data or business analyst;Desktop or enterprise...         6-8 years   \n",
              "\n",
              "  YearsCodingProf                                      HopeFiveYears  \\\n",
              "0       3-5 years  Working as a founder or co-founder of my own c...   \n",
              "1     18-20 years  Working in a different or more specialized tec...   \n",
              "2       6-8 years  Working as a founder or co-founder of my own c...   \n",
              "3     12-14 years  Working as a founder or co-founder of my own c...   \n",
              "4       0-2 years  Working in a different or more specialized tec...   \n",
              "\n",
              "                                     JobSearchStatus  \\\n",
              "0  Im not actively looking, but I am open to new...   \n",
              "1                    I am actively looking for a job   \n",
              "2  Im not actively looking, but I am open to new...   \n",
              "3  Im not actively looking, but I am open to new...   \n",
              "4  Im not actively looking, but I am open to new...   \n",
              "\n",
              "                  LastNewJob                                        UpdateCV  \\\n",
              "0       Less than a year ago  My job status or other personal status changed   \n",
              "1      More than 4 years ago               I saw an employers advertisement   \n",
              "2       Less than a year ago                                             NaN   \n",
              "3       Less than a year ago                        A recruiter contacted me   \n",
              "4  Between 1 and 2 years ago  My job status or other personal status changed   \n",
              "\n",
              "                                  CommunicationTools  TimeFullyProductive  \\\n",
              "0                                              Slack  One to three months   \n",
              "1  Confluence;Office / productivity suite (Micros...  One to three months   \n",
              "2                                                NaN                  NaN   \n",
              "3                                                NaN  Three to six months   \n",
              "4  Office / productivity suite (Microsoft Office,...  Three to six months   \n",
              "\n",
              "                                      EducationTypes  \\\n",
              "0  Taught yourself a new language, framework, or ...   \n",
              "1  Taught yourself a new language, framework, or ...   \n",
              "2                                                NaN   \n",
              "3  Completed an industry certification program (e...   \n",
              "4  Taken a part-time in-person course in programm...   \n",
              "\n",
              "                                     SelfTaughtTypes TimeAfterBootcamp  \\\n",
              "0  The official documentation and/or standards fo...               NaN   \n",
              "1  The official documentation and/or standards fo...               NaN   \n",
              "2                                                NaN               NaN   \n",
              "3  The official documentation and/or standards fo...               NaN   \n",
              "4  The official documentation and/or standards fo...               NaN   \n",
              "\n",
              "                   HackathonReasons  AgreeDisagree1  AgreeDisagree2  \\\n",
              "0  To build my professional network  Strongly agree  Strongly agree   \n",
              "1                               NaN           Agree           Agree   \n",
              "2                               NaN             NaN             NaN   \n",
              "3                               NaN        Disagree        Disagree   \n",
              "4                               NaN  Strongly agree           Agree   \n",
              "\n",
              "               AgreeDisagree3  \\\n",
              "0  Neither Agree nor Disagree   \n",
              "1  Neither Agree nor Disagree   \n",
              "2                         NaN   \n",
              "3           Strongly disagree   \n",
              "4           Strongly disagree   \n",
              "\n",
              "                                 LanguageWorkedWith  \\\n",
              "0                        JavaScript;Python;HTML;CSS   \n",
              "1                      JavaScript;Python;Bash/Shell   \n",
              "2                                               NaN   \n",
              "3  C#;JavaScript;SQL;TypeScript;HTML;CSS;Bash/Shell   \n",
              "4                C;C++;Java;Matlab;R;SQL;Bash/Shell   \n",
              "\n",
              "                             LanguageDesireNextYear  \\\n",
              "0                        JavaScript;Python;HTML;CSS   \n",
              "1                                         Go;Python   \n",
              "2                                               NaN   \n",
              "3  C#;JavaScript;SQL;TypeScript;HTML;CSS;Bash/Shell   \n",
              "4              Assembly;C;C++;Matlab;SQL;Bash/Shell   \n",
              "\n",
              "                                  DatabaseWorkedWith  \\\n",
              "0  Redis;SQL Server;MySQL;PostgreSQL;Amazon RDS/A...   \n",
              "1                         Redis;PostgreSQL;Memcached   \n",
              "2                                                NaN   \n",
              "3  SQL Server;Microsoft Azure (Tables, CosmosDB, ...   \n",
              "4               SQL Server;PostgreSQL;Oracle;IBM Db2   \n",
              "\n",
              "                              DatabaseDesireNextYear  \\\n",
              "0  Redis;SQL Server;MySQL;PostgreSQL;Amazon RDS/A...   \n",
              "1                                         PostgreSQL   \n",
              "2                                                NaN   \n",
              "3  SQL Server;Microsoft Azure (Tables, CosmosDB, ...   \n",
              "4                          PostgreSQL;Oracle;IBM Db2   \n",
              "\n",
              "                  PlatformWorkedWith             PlatformDesireNextYear  \\\n",
              "0           AWS;Azure;Linux;Firebase           AWS;Azure;Linux;Firebase   \n",
              "1                              Linux                              Linux   \n",
              "2                                NaN                                NaN   \n",
              "3                              Azure                              Azure   \n",
              "4  Arduino;Windows Desktop or Server  Arduino;Windows Desktop or Server   \n",
              "\n",
              "  FrameworkWorkedWith  FrameworkDesireNextYear  \\\n",
              "0        Django;React             Django;React   \n",
              "1              Django                    React   \n",
              "2                 NaN                      NaN   \n",
              "3                 NaN  Angular;.NET Core;React   \n",
              "4                 NaN                      NaN   \n",
              "\n",
              "                                          IDE OperatingSystem  \\\n",
              "0               Komodo;Vim;Visual Studio Code     Linux-based   \n",
              "1          IPython / Jupyter;Sublime Text;Vim     Linux-based   \n",
              "2                                         NaN             NaN   \n",
              "3            Visual Studio;Visual Studio Code         Windows   \n",
              "4  Notepad++;Visual Studio;Visual Studio Code         Windows   \n",
              "\n",
              "                                         Methodology     VersionControl  \\\n",
              "0                                        Agile;Scrum                Git   \n",
              "1                                                NaN     Git;Subversion   \n",
              "2                                                NaN                NaN   \n",
              "3                                 Agile;Kanban;Scrum                Git   \n",
              "4  Evidence-based software engineering;Formal sta...  Zip file back-ups   \n",
              "\n",
              "                       CheckInCode  \\\n",
              "0           Multiple times per day   \n",
              "1             A few times per week   \n",
              "2                              NaN   \n",
              "3           Multiple times per day   \n",
              "4  Weekly or a few times per month   \n",
              "\n",
              "                                         AIDangerous  \\\n",
              "0  Artificial intelligence surpassing human intel...   \n",
              "1                      Increasing automation of jobs   \n",
              "2                                                NaN   \n",
              "3  Artificial intelligence surpassing human intel...   \n",
              "4              Algorithms making important decisions   \n",
              "\n",
              "                                       AIInteresting  \\\n",
              "0              Algorithms making important decisions   \n",
              "1                      Increasing automation of jobs   \n",
              "2                                                NaN   \n",
              "3  Artificial intelligence surpassing human intel...   \n",
              "4              Algorithms making important decisions   \n",
              "\n",
              "                                  AIResponsible  \\\n",
              "0  The developers or the people creating the AI   \n",
              "1  The developers or the people creating the AI   \n",
              "2                                           NaN   \n",
              "3       A governmental or other regulatory body   \n",
              "4  The developers or the people creating the AI   \n",
              "\n",
              "                                            AIFuture                Age  \\\n",
              "0  I'm excited about the possibilities more than ...  25 - 34 years old   \n",
              "1  I'm excited about the possibilities more than ...  35 - 44 years old   \n",
              "2                                                NaN                NaN   \n",
              "3  I don't care about it, or I haven't thought ab...  35 - 44 years old   \n",
              "4  I'm excited about the possibilities more than ...  18 - 24 years old   \n",
              "\n",
              "         term loan_status pymnt_plan  \\\n",
              "0   36 months  Fully Paid          n   \n",
              "1   36 months  Fully Paid          n   \n",
              "2   60 months  Fully Paid          n   \n",
              "3   60 months     Current          n   \n",
              "4   60 months  Fully Paid          n   \n",
              "\n",
              "                           orignal_website_directory             purpose  \\\n",
              "0  https://lendingclub.com/browse/loanDetail.acti...  debt_consolidation   \n",
              "1  https://lendingclub.com/browse/loanDetail.acti...      small_business   \n",
              "2  https://lendingclub.com/browse/loanDetail.acti...    home_improvement   \n",
              "3  https://lendingclub.com/browse/loanDetail.acti...  debt_consolidation   \n",
              "4  https://lendingclub.com/browse/loanDetail.acti...      major_purchase   \n",
              "\n",
              "                title zip_code addr_state    dti earliest_cr_line  \\\n",
              "0  Debt consolidation    190xx         PA   5.91            3-Aug   \n",
              "1            Business    577xx         SD  16.06           Dec-99   \n",
              "2                 NaN    605xx         IL  10.78           Aug-00   \n",
              "3  Debt consolidation    076xx         NJ  17.06            8-Sep   \n",
              "4      Major purchase    174xx         PA  25.37           Jun-98   \n",
              "\n",
              "  last_pymnt_d  last_pymnt_amnt next_pymnt_d last_credit_pull_d  \\\n",
              "0       19-Jan           122.67          NaN             19-Mar   \n",
              "1       16-Jun           926.35          NaN             19-Mar   \n",
              "2       17-Jun         15813.30          NaN             19-Mar   \n",
              "3       19-Feb           829.90       19-Apr             19-Mar   \n",
              "4       16-Jul         10128.96          NaN             18-Mar   \n",
              "\n",
              "              Time emp_length  \\\n",
              "0   3/22/2016 9:51   < 1 year   \n",
              "1  3/22/2016 10:08        NaN   \n",
              "2  3/22/2016 10:08        NaN   \n",
              "3  3/22/2016 10:08  10+ years   \n",
              "4  3/22/2016 10:08  10+ years   \n",
              "\n",
              "                          your_favoritearticle_today  \\\n",
              "0  https://www.reuters.com/article/us-tesla-crash...   \n",
              "1  https://www.irishtimes.com/business/economy/un...   \n",
              "2  https://www.irishtimes.com/\\t\\t\\t\\t\\t\\t\\t/life...   \n",
              "3  https://www.aljazeera.com/news/2019/09/north-k...   \n",
              "4  https://www.bbc.co.uk/news/av/uk-scotland-4956...   \n",
              "\n",
              "                                                 url  \\\n",
              "0  nobell.it/70ffb52d079109dca5664cce6f317373782/...   \n",
              "1  www.dghjdgf.com/paypal.co.uk/cycgi-bin/webscrc...   \n",
              "2  serviciosbys.com/paypal.cgi.bin.get-into.herf....   \n",
              "3  mail.printakid.com/www.online.americanexpress....   \n",
              "4  thewhiskeydregs.com/wp-content/themes/widescre...   \n",
              "\n",
              "                           Email                                homeaddress  \\\n",
              "0      mstephenson@fernandez.com     346 W Magnolia Ave Auburn, AL 36832 US   \n",
              "1              hduke@hotmail.com      300 20th St S Birmingham, AL 35233 US   \n",
              "2               pallen@yahoo.com     3220 Morrow Rd Birmingham, AL 35235 US   \n",
              "3        riverarebecca@gmail.com   4719 Highway 280 Birmingham, AL 35242 US   \n",
              "4  mstephens@davidson-herman.com  1821 Cherokee Ave SW Cullman, AL 35055 US   \n",
              "\n",
              "    latitude  longitude           PHONE  \\\n",
              "0  32.606813 -85.487328  (91) 555 22 82   \n",
              "1  33.509722 -86.802756             NaN   \n",
              "2  33.595581 -86.647437             NaN   \n",
              "3  33.422582 -86.698279      2125557818   \n",
              "4  34.154134 -86.841220      26.47.1555   \n",
              "\n",
              "                                       officeaddress  \\\n",
              "0           PO Box 4653, Stockton, California, 95204   \n",
              "1         157 Adams St., Stockton, California, 95204   \n",
              "2       1950 W Freemont, Stockton, California, 95203   \n",
              "3         102 S. State St., Ukiah, California, 95482   \n",
              "4  13011 Newport Ave. #100, Tustin, California, 9...   \n",
              "\n",
              "                          website             dateAdded     previousaddress  \\\n",
              "0      http://www.valleybrew.com/  2016-04-22T02:47:48Z  1045 San Pablo Ave   \n",
              "1      http://www.valleybrew.com/  2016-04-22T02:47:48Z  1045 San Pablo Ave   \n",
              "2      http://www.valleybrew.com/  2016-04-22T02:47:48Z  1045 San Pablo Ave   \n",
              "3  http://www.ukiahbrewingco.com/  2016-04-22T02:47:48Z  1045 San Pablo Ave   \n",
              "4   http://www.tustinbrewery.com/  2016-04-22T02:47:48Z  1045 San Pablo Ave   \n",
              "\n",
              "           phones CrimeTime  \n",
              "0  (510) 528-2375  23:30:00  \n",
              "1  (510) 528-2375  23:00:00  \n",
              "2  (510) 528-2375  22:53:00  \n",
              "3  (510) 528-2375  22:50:00  \n",
              "4  (510) 528-2375  22:31:00  "
            ]
          },
          "metadata": {
            "tags": []
          },
          "execution_count": 8
        }
      ]
    },
    {
      "cell_type": "code",
      "metadata": {
        "colab": {
          "base_uri": "https://localhost:8080/"
        },
        "id": "iLQkwkQAr6De",
        "outputId": "303e6a50-a00a-4176-d512-e302dbb25106"
      },
      "source": [
        "len(data)"
      ],
      "execution_count": 9,
      "outputs": [
        {
          "output_type": "execute_result",
          "data": {
            "text/plain": [
              "2946"
            ]
          },
          "metadata": {
            "tags": []
          },
          "execution_count": 9
        }
      ]
    },
    {
      "cell_type": "code",
      "metadata": {
        "colab": {
          "base_uri": "https://localhost:8080/",
          "height": 295
        },
        "id": "cCrStH5Ur6F9",
        "outputId": "8f69d27a-5191-4a08-f00c-b503d28ff85d"
      },
      "source": [
        "data.describe()"
      ],
      "execution_count": 10,
      "outputs": [
        {
          "output_type": "execute_result",
          "data": {
            "text/html": [
              "<div>\n",
              "<style scoped>\n",
              "    .dataframe tbody tr th:only-of-type {\n",
              "        vertical-align: middle;\n",
              "    }\n",
              "\n",
              "    .dataframe tbody tr th {\n",
              "        vertical-align: top;\n",
              "    }\n",
              "\n",
              "    .dataframe thead th {\n",
              "        text-align: right;\n",
              "    }\n",
              "</style>\n",
              "<table border=\"1\" class=\"dataframe\">\n",
              "  <thead>\n",
              "    <tr style=\"text-align: right;\">\n",
              "      <th></th>\n",
              "      <th>id</th>\n",
              "      <th>Target_Salary</th>\n",
              "      <th>Target_Satisfied</th>\n",
              "      <th>dti</th>\n",
              "      <th>last_pymnt_amnt</th>\n",
              "      <th>latitude</th>\n",
              "      <th>longitude</th>\n",
              "    </tr>\n",
              "  </thead>\n",
              "  <tbody>\n",
              "    <tr>\n",
              "      <th>count</th>\n",
              "      <td>2.946000e+03</td>\n",
              "      <td>2946.000000</td>\n",
              "      <td>2946.000000</td>\n",
              "      <td>2946.000000</td>\n",
              "      <td>2946.000000</td>\n",
              "      <td>2629.000000</td>\n",
              "      <td>2629.000000</td>\n",
              "    </tr>\n",
              "    <tr>\n",
              "      <th>mean</th>\n",
              "      <td>6.830623e+07</td>\n",
              "      <td>58904.139794</td>\n",
              "      <td>0.210115</td>\n",
              "      <td>19.444117</td>\n",
              "      <td>4663.227026</td>\n",
              "      <td>37.515979</td>\n",
              "      <td>-92.490287</td>\n",
              "    </tr>\n",
              "    <tr>\n",
              "      <th>std</th>\n",
              "      <td>1.814269e+06</td>\n",
              "      <td>26986.575936</td>\n",
              "      <td>0.407460</td>\n",
              "      <td>8.628543</td>\n",
              "      <td>6855.297610</td>\n",
              "      <td>4.749089</td>\n",
              "      <td>16.578616</td>\n",
              "    </tr>\n",
              "    <tr>\n",
              "      <th>min</th>\n",
              "      <td>3.617740e+05</td>\n",
              "      <td>0.000000</td>\n",
              "      <td>0.000000</td>\n",
              "      <td>0.000000</td>\n",
              "      <td>0.030000</td>\n",
              "      <td>25.479009</td>\n",
              "      <td>-124.183611</td>\n",
              "    </tr>\n",
              "    <tr>\n",
              "      <th>25%</th>\n",
              "      <td>6.837622e+07</td>\n",
              "      <td>49390.000000</td>\n",
              "      <td>0.000000</td>\n",
              "      <td>13.035000</td>\n",
              "      <td>362.980000</td>\n",
              "      <td>33.876535</td>\n",
              "      <td>-105.095673</td>\n",
              "    </tr>\n",
              "    <tr>\n",
              "      <th>50%</th>\n",
              "      <td>6.846507e+07</td>\n",
              "      <td>58440.000000</td>\n",
              "      <td>0.000000</td>\n",
              "      <td>18.905000</td>\n",
              "      <td>842.235000</td>\n",
              "      <td>38.898082</td>\n",
              "      <td>-87.180851</td>\n",
              "    </tr>\n",
              "    <tr>\n",
              "      <th>75%</th>\n",
              "      <td>6.853764e+07</td>\n",
              "      <td>73171.750000</td>\n",
              "      <td>0.000000</td>\n",
              "      <td>25.580000</td>\n",
              "      <td>6832.185000</td>\n",
              "      <td>40.813125</td>\n",
              "      <td>-78.879958</td>\n",
              "    </tr>\n",
              "    <tr>\n",
              "      <th>max</th>\n",
              "      <td>6.861706e+07</td>\n",
              "      <td>218587.000000</td>\n",
              "      <td>1.000000</td>\n",
              "      <td>51.200000</td>\n",
              "      <td>35467.750000</td>\n",
              "      <td>48.785206</td>\n",
              "      <td>-68.753750</td>\n",
              "    </tr>\n",
              "  </tbody>\n",
              "</table>\n",
              "</div>"
            ],
            "text/plain": [
              "                 id  Target_Salary  Target_Satisfied          dti  \\\n",
              "count  2.946000e+03    2946.000000       2946.000000  2946.000000   \n",
              "mean   6.830623e+07   58904.139794          0.210115    19.444117   \n",
              "std    1.814269e+06   26986.575936          0.407460     8.628543   \n",
              "min    3.617740e+05       0.000000          0.000000     0.000000   \n",
              "25%    6.837622e+07   49390.000000          0.000000    13.035000   \n",
              "50%    6.846507e+07   58440.000000          0.000000    18.905000   \n",
              "75%    6.853764e+07   73171.750000          0.000000    25.580000   \n",
              "max    6.861706e+07  218587.000000          1.000000    51.200000   \n",
              "\n",
              "       last_pymnt_amnt     latitude    longitude  \n",
              "count      2946.000000  2629.000000  2629.000000  \n",
              "mean       4663.227026    37.515979   -92.490287  \n",
              "std        6855.297610     4.749089    16.578616  \n",
              "min           0.030000    25.479009  -124.183611  \n",
              "25%         362.980000    33.876535  -105.095673  \n",
              "50%         842.235000    38.898082   -87.180851  \n",
              "75%        6832.185000    40.813125   -78.879958  \n",
              "max       35467.750000    48.785206   -68.753750  "
            ]
          },
          "metadata": {
            "tags": []
          },
          "execution_count": 10
        }
      ]
    },
    {
      "cell_type": "code",
      "metadata": {
        "colab": {
          "base_uri": "https://localhost:8080/"
        },
        "id": "IANdvQUIr6If",
        "outputId": "7ff20ad8-e1f8-4e3c-b534-48c773ef6f29"
      },
      "source": [
        "data.dtypes"
      ],
      "execution_count": 11,
      "outputs": [
        {
          "output_type": "execute_result",
          "data": {
            "text/plain": [
              "id                    int64\n",
              "Target_Salary       float64\n",
              "Target_Satisfied      int64\n",
              "LOAN_AMT             object\n",
              "Business Title       object\n",
              "                     ...   \n",
              "website              object\n",
              "dateAdded            object\n",
              "previousaddress      object\n",
              "phones               object\n",
              "CrimeTime            object\n",
              "Length: 83, dtype: object"
            ]
          },
          "metadata": {
            "tags": []
          },
          "execution_count": 11
        }
      ]
    },
    {
      "cell_type": "code",
      "metadata": {
        "id": "xV9A4MUTt_Yh"
      },
      "source": [
        "#missing values "
      ],
      "execution_count": 12,
      "outputs": []
    },
    {
      "cell_type": "code",
      "metadata": {
        "colab": {
          "base_uri": "https://localhost:8080/",
          "height": 421
        },
        "id": "KmdYexARr6K4",
        "outputId": "9c1fbded-4fa0-4ad7-81f4-ee37880b3716"
      },
      "source": [
        "sns.heatmap(data.isnull())"
      ],
      "execution_count": 15,
      "outputs": [
        {
          "output_type": "execute_result",
          "data": {
            "text/plain": [
              "<matplotlib.axes._subplots.AxesSubplot at 0x7fcca6f70cd0>"
            ]
          },
          "metadata": {
            "tags": []
          },
          "execution_count": 15
        },
        {
          "output_type": "display_data",
          "data": {
            "image/png": "[encoded data removed]",
            "text/plain": [
              "<Figure size 432x288 with 2 Axes>"
            ]
          },
          "metadata": {
            "tags": [],
            "needs_background": "light"
          }
        }
      ]
    },
    {
      "cell_type": "code",
      "metadata": {
        "colab": {
          "base_uri": "https://localhost:8080/",
          "height": 362
        },
        "id": "XhLAehDruJw7",
        "outputId": "f51d7442-73d4-4d63-ad6b-68e2a5eb63cb"
      },
      "source": [
        "sns.heatmap(data.corr())"
      ],
      "execution_count": 16,
      "outputs": [
        {
          "output_type": "execute_result",
          "data": {
            "text/plain": [
              "<matplotlib.axes._subplots.AxesSubplot at 0x7fcc9ce54290>"
            ]
          },
          "metadata": {
            "tags": []
          },
          "execution_count": 16
        },
        {
          "output_type": "display_data",
          "data": {
            "image/png": "[encoded data removed]",
            "text/plain": [
              "<Figure size 432x288 with 2 Axes>"
            ]
          },
          "metadata": {
            "tags": [],
            "needs_background": "light"
          }
        }
      ]
    },
    {
      "cell_type": "code",
      "metadata": {
        "colab": {
          "base_uri": "https://localhost:8080/"
        },
        "id": "4i_06KjguJ4O",
        "outputId": "39061b63-bbc6-4a1a-fa7a-7c1d5cfa5ac4"
      },
      "source": [
        "data.isnull().sum()"
      ],
      "execution_count": 18,
      "outputs": [
        {
          "output_type": "execute_result",
          "data": {
            "text/plain": [
              "id                    0\n",
              "Target_Salary         0\n",
              "Target_Satisfied      0\n",
              "LOAN_AMT              0\n",
              "Business Title        0\n",
              "                   ... \n",
              "website             547\n",
              "dateAdded             0\n",
              "previousaddress       0\n",
              "phones                0\n",
              "CrimeTime             0\n",
              "Length: 83, dtype: int64"
            ]
          },
          "metadata": {
            "tags": []
          },
          "execution_count": 18
        }
      ]
    },
    {
      "cell_type": "code",
      "metadata": {
        "id": "5m7xCoxwuJ65"
      },
      "source": [
        "#Taking care of missing values\n",
        "#Dropping columns with too many missing values(Threshold = 25% missing values)"
      ],
      "execution_count": 19,
      "outputs": []
    },
    {
      "cell_type": "code",
      "metadata": {
        "id": "McvRTWljuKDt"
      },
      "source": [
        "df_temp = pd.DataFrame()\n",
        "for column in data:\n",
        "    missing = data.isnull().sum()[column]\n",
        "    missing_percentage = missing/len(data)\n",
        "    if missing_percentage < 0.10:\n",
        "        df_temp[column] = data[column]"
      ],
      "execution_count": 21,
      "outputs": []
    },
    {
      "cell_type": "code",
      "metadata": {
        "colab": {
          "base_uri": "https://localhost:8080/"
        },
        "id": "h1N9c9cMuKHv",
        "outputId": "32da96fa-a054-4a72-f9da-d1420619a0ad"
      },
      "source": [
        "df_temp.isnull().sum()"
      ],
      "execution_count": 23,
      "outputs": [
        {
          "output_type": "execute_result",
          "data": {
            "text/plain": [
              "id                             0\n",
              "Target_Salary                  0\n",
              "Target_Satisfied               0\n",
              "LOAN_AMT                       0\n",
              "Business Title                 0\n",
              "Civil Service Title            0\n",
              "Division/Work Unit             0\n",
              "Job Description                0\n",
              "Minimum Qual Requirements     20\n",
              "To Apply                       1\n",
              "Residency Requirement          4\n",
              "Posting Date                   4\n",
              "Posting Updated                4\n",
              "Process Date                   4\n",
              "FormalEducation               52\n",
              "CompanySize                    0\n",
              "DevType                       45\n",
              "YearsCoding                    3\n",
              "term                           0\n",
              "loan_status                    0\n",
              "pymnt_plan                     0\n",
              "orignal_website_directory      0\n",
              "purpose                        0\n",
              "title                         64\n",
              "zip_code                       0\n",
              "addr_state                     0\n",
              "dti                            0\n",
              "earliest_cr_line               0\n",
              "last_pymnt_d                   0\n",
              "last_pymnt_amnt                0\n",
              "last_credit_pull_d             0\n",
              "Time                           0\n",
              "your_favoritearticle_today     1\n",
              "url                            0\n",
              "dateAdded                      0\n",
              "previousaddress                0\n",
              "phones                         0\n",
              "CrimeTime                      0\n",
              "dtype: int64"
            ]
          },
          "metadata": {
            "tags": []
          },
          "execution_count": 23
        }
      ]
    },
    {
      "cell_type": "code",
      "metadata": {
        "id": "AMcJVpm71wB3"
      },
      "source": [
        "#handling rest missing values:"
      ],
      "execution_count": null,
      "outputs": []
    },
    {
      "cell_type": "code",
      "metadata": {
        "id": "EcZ9VYlpuKL2"
      },
      "source": [
        "for i in df_temp.columns:\n",
        "    df_temp[i].fillna(df_temp[i].mode()[0], inplace = True)"
      ],
      "execution_count": 34,
      "outputs": []
    },
    {
      "cell_type": "code",
      "metadata": {
        "id": "pQ3Y7DPyr6N_"
      },
      "source": [
        "#Diving Dataset into 3 parts Categorical, Numerical and Target¶"
      ],
      "execution_count": 35,
      "outputs": []
    },
    {
      "cell_type": "code",
      "metadata": {
        "colab": {
          "base_uri": "https://localhost:8080/"
        },
        "id": "MRM0DASP2csB",
        "outputId": "376f61e6-654f-45a5-ff78-004a5131ea45"
      },
      "source": [
        "df_temp.columns"
      ],
      "execution_count": 40,
      "outputs": [
        {
          "output_type": "execute_result",
          "data": {
            "text/plain": [
              "Index(['id', 'Target_Salary', 'Target_Satisfied', 'LOAN_AMT', 'Business Title',\n",
              "       'Civil Service Title', 'Division/Work Unit', 'Job Description',\n",
              "       'Minimum Qual Requirements', 'To Apply', 'Residency Requirement',\n",
              "       'Posting Date', 'Posting Updated', 'Process Date', 'FormalEducation',\n",
              "       'CompanySize', 'DevType', 'YearsCoding', 'term', 'loan_status',\n",
              "       'pymnt_plan', 'orignal_website_directory', 'purpose', 'title',\n",
              "       'zip_code', 'addr_state', 'dti', 'earliest_cr_line', 'last_pymnt_d',\n",
              "       'last_pymnt_amnt', 'last_credit_pull_d', 'Time',\n",
              "       'your_favoritearticle_today', 'url', 'dateAdded', 'previousaddress',\n",
              "       'phones', 'CrimeTime'],\n",
              "      dtype='object')"
            ]
          },
          "metadata": {
            "tags": []
          },
          "execution_count": 40
        }
      ]
    },
    {
      "cell_type": "code",
      "metadata": {
        "colab": {
          "base_uri": "https://localhost:8080/"
        },
        "id": "tc5Cnnus2gMJ",
        "outputId": "55ed1fe6-1770-4697-ae66-1f201fafeb8a"
      },
      "source": [
        "df_temp.dtypes"
      ],
      "execution_count": 41,
      "outputs": [
        {
          "output_type": "execute_result",
          "data": {
            "text/plain": [
              "id                              int64\n",
              "Target_Salary                 float64\n",
              "Target_Satisfied                int64\n",
              "LOAN_AMT                       object\n",
              "Business Title                 object\n",
              "Civil Service Title            object\n",
              "Division/Work Unit             object\n",
              "Job Description                object\n",
              "Minimum Qual Requirements      object\n",
              "To Apply                       object\n",
              "Residency Requirement          object\n",
              "Posting Date                   object\n",
              "Posting Updated                object\n",
              "Process Date                   object\n",
              "FormalEducation                object\n",
              "CompanySize                    object\n",
              "DevType                        object\n",
              "YearsCoding                    object\n",
              "term                           object\n",
              "loan_status                    object\n",
              "pymnt_plan                     object\n",
              "orignal_website_directory      object\n",
              "purpose                        object\n",
              "title                          object\n",
              "zip_code                       object\n",
              "addr_state                     object\n",
              "dti                           float64\n",
              "earliest_cr_line               object\n",
              "last_pymnt_d                   object\n",
              "last_pymnt_amnt               float64\n",
              "last_credit_pull_d             object\n",
              "Time                           object\n",
              "your_favoritearticle_today     object\n",
              "url                            object\n",
              "dateAdded                      object\n",
              "previousaddress                object\n",
              "phones                         object\n",
              "CrimeTime                      object\n",
              "dtype: object"
            ]
          },
          "metadata": {
            "tags": []
          },
          "execution_count": 41
        }
      ]
    },
    {
      "cell_type": "code",
      "metadata": {
        "id": "RlLwW6DA2BHb"
      },
      "source": [
        "cat_col = [ 'Business Title',\n",
        "       'Civil Service Title', 'Division/Work Unit', 'Job Description',\n",
        "       'Minimum Qual Requirements', 'To Apply', 'Residency Requirement',\n",
        "       'Posting Date', 'Posting Updated', 'Process Date', 'FormalEducation',\n",
        "       'CompanySize', 'DevType', 'YearsCoding', 'term', 'loan_status',\n",
        "       'pymnt_plan', 'orignal_website_directory', 'purpose', 'title',\n",
        "       'zip_code', 'addr_state', 'earliest_cr_line', 'last_pymnt_d',\n",
        "       'last_credit_pull_d', 'Time',\n",
        "       'your_favoritearticle_today', 'url', 'dateAdded', 'previousaddress',\n",
        "       'phones', 'CrimeTime']"
      ],
      "execution_count": 43,
      "outputs": []
    },
    {
      "cell_type": "code",
      "metadata": {
        "id": "I76H2ylk3Opo"
      },
      "source": [
        "from sklearn.preprocessing import LabelEncoder\n",
        "le=LabelEncoder()"
      ],
      "execution_count": 45,
      "outputs": []
    },
    {
      "cell_type": "code",
      "metadata": {
        "id": "R09yXGZ83D42"
      },
      "source": [
        "df_temp['LOAN_AMT']=le.fit_transform(df_temp['LOAN_AMT'])"
      ],
      "execution_count": 47,
      "outputs": []
    },
    {
      "cell_type": "code",
      "metadata": {
        "id": "xAPooK9m2BR-"
      },
      "source": [
        "num_col = ['LOAN_AMT', 'dti', 'last_pymnt_amnt']"
      ],
      "execution_count": 48,
      "outputs": []
    },
    {
      "cell_type": "code",
      "metadata": {
        "id": "XtmjFBAh2BVD"
      },
      "source": [
        "target_col = ['Target_Salary', 'Target_Satisfied']"
      ],
      "execution_count": 49,
      "outputs": []
    },
    {
      "cell_type": "code",
      "metadata": {
        "colab": {
          "base_uri": "https://localhost:8080/",
          "height": 332
        },
        "id": "04tug0-U2BXy",
        "outputId": "5390d51e-3547-4e44-c3b1-820b5d09f196"
      },
      "source": [
        "df_c = pd.DataFrame(df_temp[cat_col])\n",
        "df_c.head(2)"
      ],
      "execution_count": 50,
      "outputs": [
        {
          "output_type": "execute_result",
          "data": {
            "text/html": [
              "<div>\n",
              "<style scoped>\n",
              "    .dataframe tbody tr th:only-of-type {\n",
              "        vertical-align: middle;\n",
              "    }\n",
              "\n",
              "    .dataframe tbody tr th {\n",
              "        vertical-align: top;\n",
              "    }\n",
              "\n",
              "    .dataframe thead th {\n",
              "        text-align: right;\n",
              "    }\n",
              "</style>\n",
              "<table border=\"1\" class=\"dataframe\">\n",
              "  <thead>\n",
              "    <tr style=\"text-align: right;\">\n",
              "      <th></th>\n",
              "      <th>Business Title</th>\n",
              "      <th>Civil Service Title</th>\n",
              "      <th>Division/Work Unit</th>\n",
              "      <th>Job Description</th>\n",
              "      <th>Minimum Qual Requirements</th>\n",
              "      <th>To Apply</th>\n",
              "      <th>Residency Requirement</th>\n",
              "      <th>Posting Date</th>\n",
              "      <th>Posting Updated</th>\n",
              "      <th>Process Date</th>\n",
              "      <th>FormalEducation</th>\n",
              "      <th>CompanySize</th>\n",
              "      <th>DevType</th>\n",
              "      <th>YearsCoding</th>\n",
              "      <th>term</th>\n",
              "      <th>loan_status</th>\n",
              "      <th>pymnt_plan</th>\n",
              "      <th>orignal_website_directory</th>\n",
              "      <th>purpose</th>\n",
              "      <th>title</th>\n",
              "      <th>zip_code</th>\n",
              "      <th>addr_state</th>\n",
              "      <th>earliest_cr_line</th>\n",
              "      <th>last_pymnt_d</th>\n",
              "      <th>last_credit_pull_d</th>\n",
              "      <th>Time</th>\n",
              "      <th>your_favoritearticle_today</th>\n",
              "      <th>url</th>\n",
              "      <th>dateAdded</th>\n",
              "      <th>previousaddress</th>\n",
              "      <th>phones</th>\n",
              "      <th>CrimeTime</th>\n",
              "    </tr>\n",
              "  </thead>\n",
              "  <tbody>\n",
              "    <tr>\n",
              "      <th>0</th>\n",
              "      <td>Account Manager</td>\n",
              "      <td>CONTRACT REVIEWER (OFFICE OF L</td>\n",
              "      <td>Strategy &amp; Analytics</td>\n",
              "      <td>Division of Economic &amp; Financial Opportunity (...</td>\n",
              "      <td>1.\\tA baccalaureate degree from an accredited ...</td>\n",
              "      <td>Click the \"Apply Now\" button.</td>\n",
              "      <td>New York City residency is generally required ...</td>\n",
              "      <td>2011-06-24T00:00:00.000</td>\n",
              "      <td>2011-06-24T00:00:00.000</td>\n",
              "      <td>2019-12-17T00:00:00.000</td>\n",
              "      <td>Bachelors degree (BA, BS, B.Eng., etc.)</td>\n",
              "      <td>20 to 99 employees</td>\n",
              "      <td>Full-stack developer</td>\n",
              "      <td>3-5 years</td>\n",
              "      <td>36 months</td>\n",
              "      <td>Fully Paid</td>\n",
              "      <td>n</td>\n",
              "      <td>https://lendingclub.com/browse/loanDetail.acti...</td>\n",
              "      <td>debt_consolidation</td>\n",
              "      <td>Debt consolidation</td>\n",
              "      <td>190xx</td>\n",
              "      <td>PA</td>\n",
              "      <td>3-Aug</td>\n",
              "      <td>19-Jan</td>\n",
              "      <td>19-Mar</td>\n",
              "      <td>3/22/2016 9:51</td>\n",
              "      <td>https://www.reuters.com/article/us-tesla-crash...</td>\n",
              "      <td>nobell.it/70ffb52d079109dca5664cce6f317373782/...</td>\n",
              "      <td>2016-04-22T02:47:48Z</td>\n",
              "      <td>1045 San Pablo Ave</td>\n",
              "      <td>(510) 528-2375</td>\n",
              "      <td>23:30:00</td>\n",
              "    </tr>\n",
              "    <tr>\n",
              "      <th>1</th>\n",
              "      <td>EXECUTIVE DIRECTOR, BUSINESS DEVELOPMENT</td>\n",
              "      <td>ADMINISTRATIVE BUSINESS PROMOT</td>\n",
              "      <td>Tech Talent Pipeline</td>\n",
              "      <td>The New York City Department of Small Business...</td>\n",
              "      <td>1. A baccalaureate degree from an accredited c...</td>\n",
              "      <td>In addition to applying through this website, ...</td>\n",
              "      <td>New York City residency is generally required ...</td>\n",
              "      <td>2012-01-26T00:00:00.000</td>\n",
              "      <td>2012-01-26T00:00:00.000</td>\n",
              "      <td>2019-12-17T00:00:00.000</td>\n",
              "      <td>Bachelors degree (BA, BS, B.Eng., etc.)</td>\n",
              "      <td>10,000 or more employees</td>\n",
              "      <td>Database administrator;DevOps specialist;Full-...</td>\n",
              "      <td>30 or more years</td>\n",
              "      <td>36 months</td>\n",
              "      <td>Fully Paid</td>\n",
              "      <td>n</td>\n",
              "      <td>https://lendingclub.com/browse/loanDetail.acti...</td>\n",
              "      <td>small_business</td>\n",
              "      <td>Business</td>\n",
              "      <td>577xx</td>\n",
              "      <td>SD</td>\n",
              "      <td>Dec-99</td>\n",
              "      <td>16-Jun</td>\n",
              "      <td>19-Mar</td>\n",
              "      <td>3/22/2016 10:08</td>\n",
              "      <td>https://www.irishtimes.com/business/economy/un...</td>\n",
              "      <td>www.dghjdgf.com/paypal.co.uk/cycgi-bin/webscrc...</td>\n",
              "      <td>2016-04-22T02:47:48Z</td>\n",
              "      <td>1045 San Pablo Ave</td>\n",
              "      <td>(510) 528-2375</td>\n",
              "      <td>23:00:00</td>\n",
              "    </tr>\n",
              "  </tbody>\n",
              "</table>\n",
              "</div>"
            ],
            "text/plain": [
              "                             Business Title             Civil Service Title  \\\n",
              "0                           Account Manager  CONTRACT REVIEWER (OFFICE OF L   \n",
              "1  EXECUTIVE DIRECTOR, BUSINESS DEVELOPMENT  ADMINISTRATIVE BUSINESS PROMOT   \n",
              "\n",
              "     Division/Work Unit                                    Job Description  \\\n",
              "0  Strategy & Analytics  Division of Economic & Financial Opportunity (...   \n",
              "1  Tech Talent Pipeline  The New York City Department of Small Business...   \n",
              "\n",
              "                           Minimum Qual Requirements  \\\n",
              "0  1.\\tA baccalaureate degree from an accredited ...   \n",
              "1  1. A baccalaureate degree from an accredited c...   \n",
              "\n",
              "                                            To Apply  \\\n",
              "0                      Click the \"Apply Now\" button.   \n",
              "1  In addition to applying through this website, ...   \n",
              "\n",
              "                               Residency Requirement             Posting Date  \\\n",
              "0  New York City residency is generally required ...  2011-06-24T00:00:00.000   \n",
              "1  New York City residency is generally required ...  2012-01-26T00:00:00.000   \n",
              "\n",
              "           Posting Updated             Process Date  \\\n",
              "0  2011-06-24T00:00:00.000  2019-12-17T00:00:00.000   \n",
              "1  2012-01-26T00:00:00.000  2019-12-17T00:00:00.000   \n",
              "\n",
              "                            FormalEducation               CompanySize  \\\n",
              "0  Bachelors degree (BA, BS, B.Eng., etc.)        20 to 99 employees   \n",
              "1  Bachelors degree (BA, BS, B.Eng., etc.)  10,000 or more employees   \n",
              "\n",
              "                                             DevType       YearsCoding  \\\n",
              "0                               Full-stack developer         3-5 years   \n",
              "1  Database administrator;DevOps specialist;Full-...  30 or more years   \n",
              "\n",
              "         term loan_status pymnt_plan  \\\n",
              "0   36 months  Fully Paid          n   \n",
              "1   36 months  Fully Paid          n   \n",
              "\n",
              "                           orignal_website_directory             purpose  \\\n",
              "0  https://lendingclub.com/browse/loanDetail.acti...  debt_consolidation   \n",
              "1  https://lendingclub.com/browse/loanDetail.acti...      small_business   \n",
              "\n",
              "                title zip_code addr_state earliest_cr_line last_pymnt_d  \\\n",
              "0  Debt consolidation    190xx         PA            3-Aug       19-Jan   \n",
              "1            Business    577xx         SD           Dec-99       16-Jun   \n",
              "\n",
              "  last_credit_pull_d             Time  \\\n",
              "0             19-Mar   3/22/2016 9:51   \n",
              "1             19-Mar  3/22/2016 10:08   \n",
              "\n",
              "                          your_favoritearticle_today  \\\n",
              "0  https://www.reuters.com/article/us-tesla-crash...   \n",
              "1  https://www.irishtimes.com/business/economy/un...   \n",
              "\n",
              "                                                 url             dateAdded  \\\n",
              "0  nobell.it/70ffb52d079109dca5664cce6f317373782/...  2016-04-22T02:47:48Z   \n",
              "1  www.dghjdgf.com/paypal.co.uk/cycgi-bin/webscrc...  2016-04-22T02:47:48Z   \n",
              "\n",
              "      previousaddress          phones CrimeTime  \n",
              "0  1045 San Pablo Ave  (510) 528-2375  23:30:00  \n",
              "1  1045 San Pablo Ave  (510) 528-2375  23:00:00  "
            ]
          },
          "metadata": {
            "tags": []
          },
          "execution_count": 50
        }
      ]
    },
    {
      "cell_type": "code",
      "metadata": {
        "colab": {
          "base_uri": "https://localhost:8080/",
          "height": 175
        },
        "id": "SkgNifvF0qf0",
        "outputId": "8b5ef60c-c4ed-4c64-e995-579394f75195"
      },
      "source": [
        "fig = plt.figure(figsize=(20,1))\n",
        "sns.countplot(y='Target_Satisfied', data=data);\n",
        "print(data['Target_Satisfied'].value_counts())"
      ],
      "execution_count": 32,
      "outputs": [
        {
          "output_type": "stream",
          "text": [
            "0    2327\n",
            "1     619\n",
            "Name: Target_Satisfied, dtype: int64\n"
          ],
          "name": "stdout"
        },
        {
          "output_type": "display_data",
          "data": {
            "image/png": "[encoded data removed]",
            "text/plain": [
              "<Figure size 1440x72 with 1 Axes>"
            ]
          },
          "metadata": {
            "tags": [],
            "needs_background": "light"
          }
        }
      ]
    },
    {
      "cell_type": "code",
      "metadata": {
        "colab": {
          "base_uri": "https://localhost:8080/",
          "height": 110
        },
        "id": "0jC1g3kE3rHF",
        "outputId": "9387dba7-213e-449f-d03a-bb81a8ce72d6"
      },
      "source": [
        "df_t = pd.DataFrame(df_temp[target_col])\n",
        "df_t.head(2)"
      ],
      "execution_count": 53,
      "outputs": [
        {
          "output_type": "execute_result",
          "data": {
            "text/html": [
              "<div>\n",
              "<style scoped>\n",
              "    .dataframe tbody tr th:only-of-type {\n",
              "        vertical-align: middle;\n",
              "    }\n",
              "\n",
              "    .dataframe tbody tr th {\n",
              "        vertical-align: top;\n",
              "    }\n",
              "\n",
              "    .dataframe thead th {\n",
              "        text-align: right;\n",
              "    }\n",
              "</style>\n",
              "<table border=\"1\" class=\"dataframe\">\n",
              "  <thead>\n",
              "    <tr style=\"text-align: right;\">\n",
              "      <th></th>\n",
              "      <th>Target_Salary</th>\n",
              "      <th>Target_Satisfied</th>\n",
              "    </tr>\n",
              "  </thead>\n",
              "  <tbody>\n",
              "    <tr>\n",
              "      <th>0</th>\n",
              "      <td>42405.0</td>\n",
              "      <td>0</td>\n",
              "    </tr>\n",
              "    <tr>\n",
              "      <th>1</th>\n",
              "      <td>60740.0</td>\n",
              "      <td>1</td>\n",
              "    </tr>\n",
              "  </tbody>\n",
              "</table>\n",
              "</div>"
            ],
            "text/plain": [
              "   Target_Salary  Target_Satisfied\n",
              "0        42405.0                 0\n",
              "1        60740.0                 1"
            ]
          },
          "metadata": {
            "tags": []
          },
          "execution_count": 53
        }
      ]
    },
    {
      "cell_type": "code",
      "metadata": {
        "colab": {
          "base_uri": "https://localhost:8080/",
          "height": 110
        },
        "id": "DnjRY_w60qim",
        "outputId": "fb3136ce-fd95-49fa-ef5f-a9187ec31a99"
      },
      "source": [
        "\n",
        "df_n = pd.DataFrame(df_temp[num_col])\n",
        "df_n.head(2)"
      ],
      "execution_count": 52,
      "outputs": [
        {
          "output_type": "execute_result",
          "data": {
            "text/html": [
              "<div>\n",
              "<style scoped>\n",
              "    .dataframe tbody tr th:only-of-type {\n",
              "        vertical-align: middle;\n",
              "    }\n",
              "\n",
              "    .dataframe tbody tr th {\n",
              "        vertical-align: top;\n",
              "    }\n",
              "\n",
              "    .dataframe thead th {\n",
              "        text-align: right;\n",
              "    }\n",
              "</style>\n",
              "<table border=\"1\" class=\"dataframe\">\n",
              "  <thead>\n",
              "    <tr style=\"text-align: right;\">\n",
              "      <th></th>\n",
              "      <th>LOAN_AMT</th>\n",
              "      <th>dti</th>\n",
              "      <th>last_pymnt_amnt</th>\n",
              "    </tr>\n",
              "  </thead>\n",
              "  <tbody>\n",
              "    <tr>\n",
              "      <th>0</th>\n",
              "      <td>335</td>\n",
              "      <td>5.91</td>\n",
              "      <td>122.67</td>\n",
              "    </tr>\n",
              "    <tr>\n",
              "      <th>1</th>\n",
              "      <td>282</td>\n",
              "      <td>16.06</td>\n",
              "      <td>926.35</td>\n",
              "    </tr>\n",
              "  </tbody>\n",
              "</table>\n",
              "</div>"
            ],
            "text/plain": [
              "   LOAN_AMT    dti  last_pymnt_amnt\n",
              "0       335   5.91           122.67\n",
              "1       282  16.06           926.35"
            ]
          },
          "metadata": {
            "tags": []
          },
          "execution_count": 52
        }
      ]
    },
    {
      "cell_type": "code",
      "metadata": {
        "id": "munCCoVg0qkc"
      },
      "source": [
        "#Helper Function to handle Categorical Values\n",
        "def create_dict(name=str):\n",
        "    temp_dict = {}\n",
        "    count = 0\n",
        "    for i in df_temp[name].unique():\n",
        "        temp_dict[i] = count\n",
        "        count +=1\n",
        "    return temp_dict"
      ],
      "execution_count": 61,
      "outputs": []
    },
    {
      "cell_type": "code",
      "metadata": {
        "id": "TmZaNqOU0qnf"
      },
      "source": [
        "\n",
        "def cat_num(columns):\n",
        "    for i in columns: \n",
        "        df_c[i] = df_c[i].map(create_dict(i))"
      ],
      "execution_count": 62,
      "outputs": []
    },
    {
      "cell_type": "code",
      "metadata": {
        "id": "GF39KrF60qqZ"
      },
      "source": [
        "cat_num(cat_col)"
      ],
      "execution_count": 63,
      "outputs": []
    },
    {
      "cell_type": "code",
      "metadata": {
        "colab": {
          "base_uri": "https://localhost:8080/",
          "height": 164
        },
        "id": "AkfONR-H0qwc",
        "outputId": "234cf96b-d1b0-4dfa-e022-6b5156399b1b"
      },
      "source": [
        "df_c.head(2)"
      ],
      "execution_count": 64,
      "outputs": [
        {
          "output_type": "execute_result",
          "data": {
            "text/html": [
              "<div>\n",
              "<style scoped>\n",
              "    .dataframe tbody tr th:only-of-type {\n",
              "        vertical-align: middle;\n",
              "    }\n",
              "\n",
              "    .dataframe tbody tr th {\n",
              "        vertical-align: top;\n",
              "    }\n",
              "\n",
              "    .dataframe thead th {\n",
              "        text-align: right;\n",
              "    }\n",
              "</style>\n",
              "<table border=\"1\" class=\"dataframe\">\n",
              "  <thead>\n",
              "    <tr style=\"text-align: right;\">\n",
              "      <th></th>\n",
              "      <th>Business Title</th>\n",
              "      <th>Civil Service Title</th>\n",
              "      <th>Division/Work Unit</th>\n",
              "      <th>Job Description</th>\n",
              "      <th>Minimum Qual Requirements</th>\n",
              "      <th>To Apply</th>\n",
              "      <th>Residency Requirement</th>\n",
              "      <th>Posting Date</th>\n",
              "      <th>Posting Updated</th>\n",
              "      <th>Process Date</th>\n",
              "      <th>FormalEducation</th>\n",
              "      <th>CompanySize</th>\n",
              "      <th>DevType</th>\n",
              "      <th>YearsCoding</th>\n",
              "      <th>term</th>\n",
              "      <th>loan_status</th>\n",
              "      <th>pymnt_plan</th>\n",
              "      <th>orignal_website_directory</th>\n",
              "      <th>purpose</th>\n",
              "      <th>title</th>\n",
              "      <th>zip_code</th>\n",
              "      <th>addr_state</th>\n",
              "      <th>earliest_cr_line</th>\n",
              "      <th>last_pymnt_d</th>\n",
              "      <th>last_credit_pull_d</th>\n",
              "      <th>Time</th>\n",
              "      <th>your_favoritearticle_today</th>\n",
              "      <th>url</th>\n",
              "      <th>dateAdded</th>\n",
              "      <th>previousaddress</th>\n",
              "      <th>phones</th>\n",
              "      <th>CrimeTime</th>\n",
              "    </tr>\n",
              "  </thead>\n",
              "  <tbody>\n",
              "    <tr>\n",
              "      <th>0</th>\n",
              "      <td>0</td>\n",
              "      <td>0</td>\n",
              "      <td>0</td>\n",
              "      <td>0</td>\n",
              "      <td>0</td>\n",
              "      <td>0</td>\n",
              "      <td>0</td>\n",
              "      <td>0</td>\n",
              "      <td>0</td>\n",
              "      <td>0</td>\n",
              "      <td>0</td>\n",
              "      <td>0</td>\n",
              "      <td>0</td>\n",
              "      <td>0</td>\n",
              "      <td>0</td>\n",
              "      <td>0</td>\n",
              "      <td>0</td>\n",
              "      <td>0</td>\n",
              "      <td>0</td>\n",
              "      <td>0</td>\n",
              "      <td>0</td>\n",
              "      <td>0</td>\n",
              "      <td>0</td>\n",
              "      <td>0</td>\n",
              "      <td>0</td>\n",
              "      <td>0</td>\n",
              "      <td>0</td>\n",
              "      <td>0</td>\n",
              "      <td>0</td>\n",
              "      <td>0</td>\n",
              "      <td>0</td>\n",
              "      <td>0</td>\n",
              "    </tr>\n",
              "    <tr>\n",
              "      <th>1</th>\n",
              "      <td>1</td>\n",
              "      <td>1</td>\n",
              "      <td>1</td>\n",
              "      <td>1</td>\n",
              "      <td>1</td>\n",
              "      <td>1</td>\n",
              "      <td>0</td>\n",
              "      <td>1</td>\n",
              "      <td>1</td>\n",
              "      <td>0</td>\n",
              "      <td>0</td>\n",
              "      <td>1</td>\n",
              "      <td>1</td>\n",
              "      <td>1</td>\n",
              "      <td>0</td>\n",
              "      <td>0</td>\n",
              "      <td>0</td>\n",
              "      <td>1</td>\n",
              "      <td>1</td>\n",
              "      <td>1</td>\n",
              "      <td>1</td>\n",
              "      <td>1</td>\n",
              "      <td>1</td>\n",
              "      <td>1</td>\n",
              "      <td>0</td>\n",
              "      <td>1</td>\n",
              "      <td>1</td>\n",
              "      <td>1</td>\n",
              "      <td>0</td>\n",
              "      <td>0</td>\n",
              "      <td>0</td>\n",
              "      <td>1</td>\n",
              "    </tr>\n",
              "  </tbody>\n",
              "</table>\n",
              "</div>"
            ],
            "text/plain": [
              "   Business Title  Civil Service Title  Division/Work Unit  Job Description  \\\n",
              "0               0                    0                   0                0   \n",
              "1               1                    1                   1                1   \n",
              "\n",
              "   Minimum Qual Requirements  To Apply  Residency Requirement  Posting Date  \\\n",
              "0                          0         0                      0             0   \n",
              "1                          1         1                      0             1   \n",
              "\n",
              "   Posting Updated  Process Date  FormalEducation  CompanySize  DevType  \\\n",
              "0                0             0                0            0        0   \n",
              "1                1             0                0            1        1   \n",
              "\n",
              "   YearsCoding  term  loan_status  pymnt_plan  orignal_website_directory  \\\n",
              "0            0     0            0           0                          0   \n",
              "1            1     0            0           0                          1   \n",
              "\n",
              "   purpose  title  zip_code  addr_state  earliest_cr_line  last_pymnt_d  \\\n",
              "0        0      0         0           0                 0             0   \n",
              "1        1      1         1           1                 1             1   \n",
              "\n",
              "   last_credit_pull_d  Time  your_favoritearticle_today  url  dateAdded  \\\n",
              "0                   0     0                           0    0          0   \n",
              "1                   0     1                           1    1          0   \n",
              "\n",
              "   previousaddress  phones  CrimeTime  \n",
              "0                0       0          0  \n",
              "1                0       0          1  "
            ]
          },
          "metadata": {
            "tags": []
          },
          "execution_count": 64
        }
      ]
    },
    {
      "cell_type": "code",
      "metadata": {
        "id": "YkzztHxV0qzz"
      },
      "source": [
        "#Merging Categorical and Numerical dataset"
      ],
      "execution_count": 65,
      "outputs": []
    },
    {
      "cell_type": "code",
      "metadata": {
        "colab": {
          "base_uri": "https://localhost:8080/",
          "height": 164
        },
        "id": "Dfyk_KW15jg-",
        "outputId": "434dfe2f-bd14-4279-d1f0-84f559742a41"
      },
      "source": [
        "df_new = pd.concat([df_c, df_n], axis=1)\n",
        "df_new.head(2)"
      ],
      "execution_count": 66,
      "outputs": [
        {
          "output_type": "execute_result",
          "data": {
            "text/html": [
              "<div>\n",
              "<style scoped>\n",
              "    .dataframe tbody tr th:only-of-type {\n",
              "        vertical-align: middle;\n",
              "    }\n",
              "\n",
              "    .dataframe tbody tr th {\n",
              "        vertical-align: top;\n",
              "    }\n",
              "\n",
              "    .dataframe thead th {\n",
              "        text-align: right;\n",
              "    }\n",
              "</style>\n",
              "<table border=\"1\" class=\"dataframe\">\n",
              "  <thead>\n",
              "    <tr style=\"text-align: right;\">\n",
              "      <th></th>\n",
              "      <th>Business Title</th>\n",
              "      <th>Civil Service Title</th>\n",
              "      <th>Division/Work Unit</th>\n",
              "      <th>Job Description</th>\n",
              "      <th>Minimum Qual Requirements</th>\n",
              "      <th>To Apply</th>\n",
              "      <th>Residency Requirement</th>\n",
              "      <th>Posting Date</th>\n",
              "      <th>Posting Updated</th>\n",
              "      <th>Process Date</th>\n",
              "      <th>FormalEducation</th>\n",
              "      <th>CompanySize</th>\n",
              "      <th>DevType</th>\n",
              "      <th>YearsCoding</th>\n",
              "      <th>term</th>\n",
              "      <th>loan_status</th>\n",
              "      <th>pymnt_plan</th>\n",
              "      <th>orignal_website_directory</th>\n",
              "      <th>purpose</th>\n",
              "      <th>title</th>\n",
              "      <th>zip_code</th>\n",
              "      <th>addr_state</th>\n",
              "      <th>earliest_cr_line</th>\n",
              "      <th>last_pymnt_d</th>\n",
              "      <th>last_credit_pull_d</th>\n",
              "      <th>Time</th>\n",
              "      <th>your_favoritearticle_today</th>\n",
              "      <th>url</th>\n",
              "      <th>dateAdded</th>\n",
              "      <th>previousaddress</th>\n",
              "      <th>phones</th>\n",
              "      <th>CrimeTime</th>\n",
              "      <th>LOAN_AMT</th>\n",
              "      <th>dti</th>\n",
              "      <th>last_pymnt_amnt</th>\n",
              "    </tr>\n",
              "  </thead>\n",
              "  <tbody>\n",
              "    <tr>\n",
              "      <th>0</th>\n",
              "      <td>0</td>\n",
              "      <td>0</td>\n",
              "      <td>0</td>\n",
              "      <td>0</td>\n",
              "      <td>0</td>\n",
              "      <td>0</td>\n",
              "      <td>0</td>\n",
              "      <td>0</td>\n",
              "      <td>0</td>\n",
              "      <td>0</td>\n",
              "      <td>0</td>\n",
              "      <td>0</td>\n",
              "      <td>0</td>\n",
              "      <td>0</td>\n",
              "      <td>0</td>\n",
              "      <td>0</td>\n",
              "      <td>0</td>\n",
              "      <td>0</td>\n",
              "      <td>0</td>\n",
              "      <td>0</td>\n",
              "      <td>0</td>\n",
              "      <td>0</td>\n",
              "      <td>0</td>\n",
              "      <td>0</td>\n",
              "      <td>0</td>\n",
              "      <td>0</td>\n",
              "      <td>0</td>\n",
              "      <td>0</td>\n",
              "      <td>0</td>\n",
              "      <td>0</td>\n",
              "      <td>0</td>\n",
              "      <td>0</td>\n",
              "      <td>335</td>\n",
              "      <td>5.91</td>\n",
              "      <td>122.67</td>\n",
              "    </tr>\n",
              "    <tr>\n",
              "      <th>1</th>\n",
              "      <td>1</td>\n",
              "      <td>1</td>\n",
              "      <td>1</td>\n",
              "      <td>1</td>\n",
              "      <td>1</td>\n",
              "      <td>1</td>\n",
              "      <td>0</td>\n",
              "      <td>1</td>\n",
              "      <td>1</td>\n",
              "      <td>0</td>\n",
              "      <td>0</td>\n",
              "      <td>1</td>\n",
              "      <td>1</td>\n",
              "      <td>1</td>\n",
              "      <td>0</td>\n",
              "      <td>0</td>\n",
              "      <td>0</td>\n",
              "      <td>1</td>\n",
              "      <td>1</td>\n",
              "      <td>1</td>\n",
              "      <td>1</td>\n",
              "      <td>1</td>\n",
              "      <td>1</td>\n",
              "      <td>1</td>\n",
              "      <td>0</td>\n",
              "      <td>1</td>\n",
              "      <td>1</td>\n",
              "      <td>1</td>\n",
              "      <td>0</td>\n",
              "      <td>0</td>\n",
              "      <td>0</td>\n",
              "      <td>1</td>\n",
              "      <td>282</td>\n",
              "      <td>16.06</td>\n",
              "      <td>926.35</td>\n",
              "    </tr>\n",
              "  </tbody>\n",
              "</table>\n",
              "</div>"
            ],
            "text/plain": [
              "   Business Title  Civil Service Title  Division/Work Unit  Job Description  \\\n",
              "0               0                    0                   0                0   \n",
              "1               1                    1                   1                1   \n",
              "\n",
              "   Minimum Qual Requirements  To Apply  Residency Requirement  Posting Date  \\\n",
              "0                          0         0                      0             0   \n",
              "1                          1         1                      0             1   \n",
              "\n",
              "   Posting Updated  Process Date  FormalEducation  CompanySize  DevType  \\\n",
              "0                0             0                0            0        0   \n",
              "1                1             0                0            1        1   \n",
              "\n",
              "   YearsCoding  term  loan_status  pymnt_plan  orignal_website_directory  \\\n",
              "0            0     0            0           0                          0   \n",
              "1            1     0            0           0                          1   \n",
              "\n",
              "   purpose  title  zip_code  addr_state  earliest_cr_line  last_pymnt_d  \\\n",
              "0        0      0         0           0                 0             0   \n",
              "1        1      1         1           1                 1             1   \n",
              "\n",
              "   last_credit_pull_d  Time  your_favoritearticle_today  url  dateAdded  \\\n",
              "0                   0     0                           0    0          0   \n",
              "1                   0     1                           1    1          0   \n",
              "\n",
              "   previousaddress  phones  CrimeTime  LOAN_AMT    dti  last_pymnt_amnt  \n",
              "0                0       0          0       335   5.91           122.67  \n",
              "1                0       0          1       282  16.06           926.35  "
            ]
          },
          "metadata": {
            "tags": []
          },
          "execution_count": 66
        }
      ]
    },
    {
      "cell_type": "code",
      "metadata": {
        "id": "dwxgLN-r5jwO"
      },
      "source": [
        "# MODEL TRAINING (CLASSIFICATION) - Target_Satisfied'"
      ],
      "execution_count": null,
      "outputs": []
    },
    {
      "cell_type": "code",
      "metadata": {
        "id": "EM0pcVso5j3V"
      },
      "source": [
        "X = df_new\n",
        "y = df_t['Target_Satisfied']"
      ],
      "execution_count": 67,
      "outputs": []
    },
    {
      "cell_type": "code",
      "metadata": {
        "id": "RrX8PORR5j6C"
      },
      "source": [
        "# Create Train & Test Data\n",
        "from sklearn.model_selection import train_test_split\n",
        "X_train, X_test, y_train, y_test = train_test_split(X, y, test_size=0.2, random_state=101)\n",
        "\n",
        "# Standard Scaling\n",
        "from sklearn.preprocessing import StandardScaler\n",
        "scaler = StandardScaler()\n",
        "X_train_scaled = scaler.fit_transform(X_train)\n",
        "X_test_scaled = scaler.transform(X_test)"
      ],
      "execution_count": 68,
      "outputs": []
    },
    {
      "cell_type": "code",
      "metadata": {
        "id": "i4MirpsY81mK"
      },
      "source": [
        "\n",
        "from xgboost import XGBClassifier\n",
        "from sklearn.metrics import f1_score\n",
        "XGB = XGBClassifier()\n",
        "XGB.fit(X_train_scaled, y_train)\n",
        "predictions = XGB.predict(X_test_scaled)"
      ],
      "execution_count": 70,
      "outputs": []
    },
    {
      "cell_type": "code",
      "metadata": {
        "colab": {
          "base_uri": "https://localhost:8080/"
        },
        "id": "uH6cjmQ686Py",
        "outputId": "112a8458-367a-4a1c-afb6-d58a576a4d8a"
      },
      "source": [
        "print(\"f1 score : \",f1_score(y_test, predictions, average='micro')*100)"
      ],
      "execution_count": 72,
      "outputs": [
        {
          "output_type": "stream",
          "text": [
            "f1 score :  78.47457627118645\n"
          ],
          "name": "stdout"
        }
      ]
    },
    {
      "cell_type": "code",
      "metadata": {
        "id": "KmMQZFkz9ERn"
      },
      "source": [
        "from sklearn.ensemble import RandomForestClassifier\n",
        "rf=RandomForestClassifier()\n",
        "rf.fit(X_train_scaled, y_train)\n",
        "prediction = rf.predict(X_test_scaled)"
      ],
      "execution_count": 76,
      "outputs": []
    },
    {
      "cell_type": "code",
      "metadata": {
        "colab": {
          "base_uri": "https://localhost:8080/"
        },
        "id": "4bMXoF1b81o_",
        "outputId": "65d1bbc1-ee15-4b3a-c083-a4707c8e7e83"
      },
      "source": [
        "print(\"f1 score : \",f1_score(y_test, prediction, average='micro')*100)"
      ],
      "execution_count": 77,
      "outputs": [
        {
          "output_type": "stream",
          "text": [
            "f1 score :  78.47457627118645\n"
          ],
          "name": "stdout"
        }
      ]
    },
    {
      "cell_type": "code",
      "metadata": {
        "id": "cquid-PL81rr"
      },
      "source": [
        "# MODEL TRAINING (Regression) - Target_Salary"
      ],
      "execution_count": 78,
      "outputs": []
    },
    {
      "cell_type": "code",
      "metadata": {
        "id": "hiq2VkuM9kEF"
      },
      "source": [
        "X = df_new\n",
        "y = df_t['Target_Salary'] "
      ],
      "execution_count": 90,
      "outputs": []
    },
    {
      "cell_type": "code",
      "metadata": {
        "id": "ZEudX-PD9kGs"
      },
      "source": [
        "# Create Train & Test Data\n",
        "from sklearn.model_selection import train_test_split\n",
        "X_train, X_test, y_train, y_test = train_test_split(X, y, test_size=0.2, random_state=101)"
      ],
      "execution_count": 92,
      "outputs": []
    },
    {
      "cell_type": "code",
      "metadata": {
        "id": "o4KKw55j9kI_"
      },
      "source": [
        "from sklearn.preprocessing import StandardScaler\n",
        "scaler = StandardScaler()\n",
        "X_train_scaled = scaler.fit_transform(X_train)\n",
        "X_test_scaled = scaler.transform(X_test)"
      ],
      "execution_count": 93,
      "outputs": []
    },
    {
      "cell_type": "code",
      "metadata": {
        "id": "Fv9iC0Dr9kK4"
      },
      "source": [
        "from sklearn.neighbors import KNeighborsRegressor\n",
        "from sklearn.metrics import mean_squared_error\n",
        "KNN = KNeighborsRegressor()\n",
        "KNN.fit(X_train_scaled, y_train)\n",
        "predictions = KNN.predict(X_test_scaled)"
      ],
      "execution_count": 94,
      "outputs": []
    },
    {
      "cell_type": "code",
      "metadata": {
        "colab": {
          "base_uri": "https://localhost:8080/"
        },
        "id": "NG2bMYxe9rhE",
        "outputId": "99952707-948b-4a38-adbb-c9fddd6453ac"
      },
      "source": [
        "MSE=np.square(np.subtract(y_test,predictions)).mean() \n",
        "MSE"
      ],
      "execution_count": 103,
      "outputs": [
        {
          "output_type": "execute_result",
          "data": {
            "text/plain": [
              "823008100.9549901"
            ]
          },
          "metadata": {
            "tags": []
          },
          "execution_count": 103
        }
      ]
    },
    {
      "cell_type": "code",
      "metadata": {
        "colab": {
          "base_uri": "https://localhost:8080/"
        },
        "id": "b0jFZu60-aWX",
        "outputId": "d011adb2-2fd7-48c5-ace8-b4158fa8fe6d"
      },
      "source": [
        "import math \n",
        "RMSE = math.sqrt(MSE)\n",
        "RMSE"
      ],
      "execution_count": 106,
      "outputs": [
        {
          "output_type": "execute_result",
          "data": {
            "text/plain": [
              "28688.117765984407"
            ]
          },
          "metadata": {
            "tags": []
          },
          "execution_count": 106
        }
      ]
    },
    {
      "cell_type": "code",
      "metadata": {
        "id": "cdkxScit9kTM"
      },
      "source": [
        ""
      ],
      "execution_count": null,
      "outputs": []
    },
    {
      "cell_type": "code",
      "metadata": {
        "id": "oepYItM081yE"
      },
      "source": [
        ""
      ],
      "execution_count": null,
      "outputs": []
    },
    {
      "cell_type": "code",
      "metadata": {
        "id": "5nmJYKfa811Z"
      },
      "source": [
        ""
      ],
      "execution_count": null,
      "outputs": []
    }
  ]
}